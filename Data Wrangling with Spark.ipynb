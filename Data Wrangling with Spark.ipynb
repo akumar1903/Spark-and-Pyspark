{
 "cells": [
  {
   "cell_type": "markdown",
   "metadata": {},
   "source": [
    "# Data Wrangling with Spark\n",
    "This is the code used in the previous screencast. Run each code cell to understand what the code does and how it works.\n",
    "\n",
    "These first three cells import libraries, instantiate a SparkSession, and then read in the data set"
   ]
  },
  {
   "cell_type": "code",
   "execution_count": 1,
   "metadata": {},
   "outputs": [],
   "source": [
    "from pyspark.sql import SparkSession\n",
    "from pyspark.sql.functions import udf\n",
    "from pyspark.sql.types import StringType\n",
    "from pyspark.sql.types import IntegerType\n",
    "from pyspark.sql.functions import desc\n",
    "from pyspark.sql.functions import asc\n",
    "from pyspark.sql.functions import sum as Fsum\n",
    "\n",
    "import datetime\n",
    "\n",
    "import numpy as np\n",
    "import pandas as pd\n",
    "%matplotlib inline\n",
    "import matplotlib.pyplot as plt"
   ]
  },
  {
   "cell_type": "code",
   "execution_count": 2,
   "metadata": {},
   "outputs": [],
   "source": [
    "spark = SparkSession \\\n",
    "    .builder \\\n",
    "    .appName(\"Wrangling Data\") \\\n",
    "    .getOrCreate()"
   ]
  },
  {
   "cell_type": "code",
   "execution_count": 26,
   "metadata": {},
   "outputs": [],
   "source": [
    "path = \"C:\\\\Users\\\\arunk01\\\\Desktop\\\\Udacity\\\\data\\*.json\"\n",
    "user_log = spark.read.json(path)"
   ]
  },
  {
   "cell_type": "markdown",
   "metadata": {},
   "source": [
    "# Data Exploration¶\n",
    "The next cells explore the data set."
   ]
  },
  {
   "cell_type": "code",
   "execution_count": 28,
   "metadata": {},
   "outputs": [
    {
     "data": {
      "text/plain": [
       "[Row(artist='Harmonia', auth='Logged In', firstName='Ryan', gender='M', itemInSession=0, lastName='Smith', length=655.77751, level='free', location='San Jose-Sunnyvale-Santa Clara, CA', method='PUT', page='NextSong', registration=1541016707796.0, sessionId=583, song='Sehr kosmisch', status=200, ts=1542241826796, userAgent='\"Mozilla/5.0 (X11; Linux x86_64) AppleWebKit/537.36 (KHTML, like Gecko) Ubuntu Chromium/36.0.1985.125 Chrome/36.0.1985.125 Safari/537.36\"', userId='26'),\n",
       " Row(artist='The Prodigy', auth='Logged In', firstName='Ryan', gender='M', itemInSession=1, lastName='Smith', length=260.07465, level='free', location='San Jose-Sunnyvale-Santa Clara, CA', method='PUT', page='NextSong', registration=1541016707796.0, sessionId=583, song='The Big Gundown', status=200, ts=1542242481796, userAgent='\"Mozilla/5.0 (X11; Linux x86_64) AppleWebKit/537.36 (KHTML, like Gecko) Ubuntu Chromium/36.0.1985.125 Chrome/36.0.1985.125 Safari/537.36\"', userId='26'),\n",
       " Row(artist='Train', auth='Logged In', firstName='Ryan', gender='M', itemInSession=2, lastName='Smith', length=205.45261, level='free', location='San Jose-Sunnyvale-Santa Clara, CA', method='PUT', page='NextSong', registration=1541016707796.0, sessionId=583, song='Marry Me', status=200, ts=1542242741796, userAgent='\"Mozilla/5.0 (X11; Linux x86_64) AppleWebKit/537.36 (KHTML, like Gecko) Ubuntu Chromium/36.0.1985.125 Chrome/36.0.1985.125 Safari/537.36\"', userId='26'),\n",
       " Row(artist=None, auth='Logged In', firstName='Wyatt', gender='M', itemInSession=0, lastName='Scott', length=None, level='free', location='Eureka-Arcata-Fortuna, CA', method='GET', page='Home', registration=1540872073796.0, sessionId=563, song=None, status=200, ts=1542247071796, userAgent='Mozilla/5.0 (Windows NT 6.1; WOW64; Trident/7.0; rv:11.0) like Gecko', userId='9'),\n",
       " Row(artist=None, auth='Logged In', firstName='Austin', gender='M', itemInSession=0, lastName='Rosales', length=None, level='free', location='New York-Newark-Jersey City, NY-NJ-PA', method='GET', page='Home', registration=1541059521796.0, sessionId=521, song=None, status=200, ts=1542252577796, userAgent='Mozilla/5.0 (Windows NT 6.1; rv:31.0) Gecko/20100101 Firefox/31.0', userId='12')]"
      ]
     },
     "execution_count": 28,
     "metadata": {},
     "output_type": "execute_result"
    }
   ],
   "source": [
    "user_log.take(5)"
   ]
  },
  {
   "cell_type": "code",
   "execution_count": 29,
   "metadata": {},
   "outputs": [
    {
     "name": "stdout",
     "output_type": "stream",
     "text": [
      "root\n",
      " |-- artist: string (nullable = true)\n",
      " |-- auth: string (nullable = true)\n",
      " |-- firstName: string (nullable = true)\n",
      " |-- gender: string (nullable = true)\n",
      " |-- itemInSession: long (nullable = true)\n",
      " |-- lastName: string (nullable = true)\n",
      " |-- length: double (nullable = true)\n",
      " |-- level: string (nullable = true)\n",
      " |-- location: string (nullable = true)\n",
      " |-- method: string (nullable = true)\n",
      " |-- page: string (nullable = true)\n",
      " |-- registration: double (nullable = true)\n",
      " |-- sessionId: long (nullable = true)\n",
      " |-- song: string (nullable = true)\n",
      " |-- status: long (nullable = true)\n",
      " |-- ts: long (nullable = true)\n",
      " |-- userAgent: string (nullable = true)\n",
      " |-- userId: string (nullable = true)\n",
      "\n"
     ]
    }
   ],
   "source": [
    "user_log.printSchema()"
   ]
  },
  {
   "cell_type": "code",
   "execution_count": 30,
   "metadata": {},
   "outputs": [
    {
     "name": "stdout",
     "output_type": "stream",
     "text": [
      "+-------+------------------+----------+---------+------+-----------------+--------+------------------+-----+--------------------+------+-------+--------------------+-----------------+--------------------+------------------+--------------------+--------------------+------------------+\n",
      "|summary|            artist|      auth|firstName|gender|    itemInSession|lastName|            length|level|            location|method|   page|        registration|        sessionId|                song|            status|                  ts|           userAgent|            userId|\n",
      "+-------+------------------+----------+---------+------+-----------------+--------+------------------+-----+--------------------+------+-------+--------------------+-----------------+--------------------+------------------+--------------------+--------------------+------------------+\n",
      "|  count|              7176|      8464|     8171|  8171|             8464|    8171|              7176| 8464|                8171|  8464|   8464|                8171|             8464|                7176|              8464|                8464|                8171|              8464|\n",
      "|   mean|272.85714285714283|      null|     null|  null|21.14047731568998|    null|246.96736193979888| null|                null|  null|   null|1.540779388360068E12|578.8761814744802|  1388.3636363636363| 202.8946124763705|1.542435045562776...|                null|  54.5869538612165|\n",
      "| stddev|100.91651429346368|      null|     null|  null| 23.2749644832595|    null|102.41916151398493| null|                null|  null|   null|2.6372693669819194E8| 291.761723016622|  2347.5150807919113|18.085914916467473| 7.201469376014041E8|                null|28.104005493151167|\n",
      "|    min|               !!!| Logged In|   Adelyn|     F|                0|Arellano|          15.85587| free|Atlanta-Sandy Spr...|   GET|  About|   1.539908999796E12|                3| I Will Not Reap ...|               200|       1541105830796|\"Mozilla/5.0 (Mac...|                  |\n",
      "|    max|   ÃÂtienne Daho|Logged Out|  Zachary|     M|              127|   Young|        2594.87302| paid|       Yuba City, CA|   PUT|Upgrade|   1.541098488796E12|             1114|ÃÂ Aqui Que Se ...|               404|       1543607664796|Mozilla/5.0 (comp...|                99|\n",
      "+-------+------------------+----------+---------+------+-----------------+--------+------------------+-----+--------------------+------+-------+--------------------+-----------------+--------------------+------------------+--------------------+--------------------+------------------+\n",
      "\n"
     ]
    }
   ],
   "source": [
    "user_log.describe().show()"
   ]
  },
  {
   "cell_type": "code",
   "execution_count": 31,
   "metadata": {},
   "outputs": [
    {
     "name": "stdout",
     "output_type": "stream",
     "text": [
      "+-------+------------------+\n",
      "|summary|            artist|\n",
      "+-------+------------------+\n",
      "|  count|              7176|\n",
      "|   mean|272.85714285714283|\n",
      "| stddev|100.91651429346368|\n",
      "|    min|               !!!|\n",
      "|    max|   ÃÂtienne Daho|\n",
      "+-------+------------------+\n",
      "\n"
     ]
    }
   ],
   "source": [
    "user_log.describe(\"artist\").show()"
   ]
  },
  {
   "cell_type": "code",
   "execution_count": 32,
   "metadata": {},
   "outputs": [
    {
     "name": "stdout",
     "output_type": "stream",
     "text": [
      "+-------+-----------------+\n",
      "|summary|        sessionId|\n",
      "+-------+-----------------+\n",
      "|  count|             8464|\n",
      "|   mean|578.8761814744802|\n",
      "| stddev| 291.761723016622|\n",
      "|    min|                3|\n",
      "|    max|             1114|\n",
      "+-------+-----------------+\n",
      "\n"
     ]
    }
   ],
   "source": [
    "user_log.describe(\"sessionId\").show()"
   ]
  },
  {
   "cell_type": "code",
   "execution_count": 33,
   "metadata": {},
   "outputs": [
    {
     "data": {
      "text/plain": [
       "8464"
      ]
     },
     "execution_count": 33,
     "metadata": {},
     "output_type": "execute_result"
    }
   ],
   "source": [
    "user_log.count()"
   ]
  },
  {
   "cell_type": "code",
   "execution_count": 34,
   "metadata": {},
   "outputs": [
    {
     "name": "stdout",
     "output_type": "stream",
     "text": [
      "+----------------+\n",
      "|            page|\n",
      "+----------------+\n",
      "|           About|\n",
      "|       Downgrade|\n",
      "|           Error|\n",
      "|            Help|\n",
      "|            Home|\n",
      "|           Login|\n",
      "|          Logout|\n",
      "|        NextSong|\n",
      "|   Save Settings|\n",
      "|        Settings|\n",
      "|Submit Downgrade|\n",
      "|  Submit Upgrade|\n",
      "|         Upgrade|\n",
      "+----------------+\n",
      "\n"
     ]
    }
   ],
   "source": [
    "user_log.select(\"page\").dropDuplicates().sort(\"page\").show()"
   ]
  },
  {
   "cell_type": "code",
   "execution_count": 37,
   "metadata": {},
   "outputs": [
    {
     "name": "stdout",
     "output_type": "stream",
     "text": [
      "+-------+------------------+\n",
      "|summary|            userId|\n",
      "+-------+------------------+\n",
      "|  count|              8464|\n",
      "|   mean|  54.5869538612165|\n",
      "| stddev|28.104005493151167|\n",
      "|    min|                  |\n",
      "|    max|                99|\n",
      "+-------+------------------+\n",
      "\n"
     ]
    }
   ],
   "source": [
    "user_log.describe(\"userId\").show()"
   ]
  },
  {
   "cell_type": "code",
   "execution_count": 41,
   "metadata": {},
   "outputs": [
    {
     "data": {
      "text/plain": [
       "[Row(userId='100', firstname='Adler', page='NextSong', song='Politik'),\n",
       " Row(userId='100', firstname='Adler', page='NextSong', song='New Divide (Album Version)'),\n",
       " Row(userId='100', firstname='Adler', page='NextSong', song='Bloodletting (The Vampire Song)'),\n",
       " Row(userId='100', firstname='Adler', page='Home', song=None),\n",
       " Row(userId='100', firstname='Adler', page='NextSong', song='Catch You Baby (Steve Pitron & Max Sanna Radio Edit)'),\n",
       " Row(userId='100', firstname='Adler', page='NextSong', song='Bleed It Out (Album Version)'),\n",
       " Row(userId='100', firstname='Adler', page='Home', song=None),\n",
       " Row(userId='100', firstname='Adler', page='Home', song=None),\n",
       " Row(userId='100', firstname='Adler', page='NextSong', song='Traded In My Cigarettes'),\n",
       " Row(userId='100', firstname='Adler', page='NextSong', song='Talk Is Drastik'),\n",
       " Row(userId='100', firstname='Adler', page='NextSong', song='EMCEE Murdah'),\n",
       " Row(userId='100', firstname='Adler', page='NextSong', song='Come Undone'),\n",
       " Row(userId='100', firstname='Adler', page='NextSong', song='Amazing Life'),\n",
       " Row(userId='100', firstname='Adler', page='NextSong', song=\"Let's Get Married\"),\n",
       " Row(userId='100', firstname='Adler', page='Home', song=None),\n",
       " Row(userId='100', firstname='Adler', page='NextSong', song='Obvious Heart'),\n",
       " Row(userId='100', firstname='Adler', page='NextSong', song='Intoxication'),\n",
       " Row(userId='100', firstname='Adler', page='NextSong', song='Fairy Tale'),\n",
       " Row(userId='100', firstname='Adler', page='Home', song=None),\n",
       " Row(userId='100', firstname='Adler', page='NextSong', song='Uno Entre 1000'),\n",
       " Row(userId='100', firstname='Adler', page='NextSong', song='Behind Blue Eyes'),\n",
       " Row(userId='100', firstname='Adler', page='NextSong', song='Dos (LP Version)'),\n",
       " Row(userId='100', firstname='Adler', page='NextSong', song='Salvapantallas'),\n",
       " Row(userId='100', firstname='Adler', page='NextSong', song='Marianas')]"
      ]
     },
     "execution_count": 41,
     "metadata": {},
     "output_type": "execute_result"
    }
   ],
   "source": [
    "user_log.select([\"userId\", \"firstname\", \"page\", \"song\"]).where(user_log.userId == \"100\").collect()"
   ]
  },
  {
   "cell_type": "markdown",
   "metadata": {},
   "source": [
    "# Calculating Statistics by Hour"
   ]
  },
  {
   "cell_type": "code",
   "execution_count": 44,
   "metadata": {},
   "outputs": [],
   "source": [
    "get_hour = udf(lambda x: datetime.datetime.fromtimestamp(x / 1000.0). hour)"
   ]
  },
  {
   "cell_type": "code",
   "execution_count": 45,
   "metadata": {},
   "outputs": [],
   "source": [
    "user_log = user_log.withColumn(\"hour\", get_hour(user_log.ts))"
   ]
  },
  {
   "cell_type": "code",
   "execution_count": 46,
   "metadata": {},
   "outputs": [
    {
     "data": {
      "text/plain": [
       "Row(artist='Harmonia', auth='Logged In', firstName='Ryan', gender='M', itemInSession=0, lastName='Smith', length=655.77751, level='free', location='San Jose-Sunnyvale-Santa Clara, CA', method='PUT', page='NextSong', registration=1541016707796.0, sessionId=583, song='Sehr kosmisch', status=200, ts=1542241826796, userAgent='\"Mozilla/5.0 (X11; Linux x86_64) AppleWebKit/537.36 (KHTML, like Gecko) Ubuntu Chromium/36.0.1985.125 Chrome/36.0.1985.125 Safari/537.36\"', userId='26', hour='18')"
      ]
     },
     "execution_count": 46,
     "metadata": {},
     "output_type": "execute_result"
    }
   ],
   "source": [
    "user_log.head()"
   ]
  },
  {
   "cell_type": "code",
   "execution_count": 47,
   "metadata": {},
   "outputs": [],
   "source": [
    "songs_in_hour = user_log.filter(user_log.page == \"NextSong\").groupby(user_log.hour).count().orderBy(user_log.hour.cast(\"float\"))"
   ]
  },
  {
   "cell_type": "code",
   "execution_count": 48,
   "metadata": {},
   "outputs": [
    {
     "name": "stdout",
     "output_type": "stream",
     "text": [
      "+----+-----+\n",
      "|hour|count|\n",
      "+----+-----+\n",
      "|   0|  173|\n",
      "|   1|  197|\n",
      "|   2|  214|\n",
      "|   3|  281|\n",
      "|   4|  348|\n",
      "|   5|  348|\n",
      "|   6|  334|\n",
      "|   7|  346|\n",
      "|   8|  466|\n",
      "|   9|  505|\n",
      "|  10|  562|\n",
      "|  11|  535|\n",
      "|  12|  542|\n",
      "|  13|  387|\n",
      "|  14|  368|\n",
      "|  15|  274|\n",
      "|  16|  229|\n",
      "|  17|  201|\n",
      "|  18|  157|\n",
      "|  19|  158|\n",
      "+----+-----+\n",
      "only showing top 20 rows\n",
      "\n"
     ]
    }
   ],
   "source": [
    "songs_in_hour.show()"
   ]
  },
  {
   "cell_type": "code",
   "execution_count": 49,
   "metadata": {},
   "outputs": [],
   "source": [
    "songs_in_hour_pd = songs_in_hour.toPandas()\n",
    "songs_in_hour_pd.hour = pd.to_numeric(songs_in_hour_pd.hour)"
   ]
  },
  {
   "cell_type": "code",
   "execution_count": 50,
   "metadata": {},
   "outputs": [
    {
     "data": {
      "image/png": "[encoded data removed]",
      "text/plain": [
       "<Figure size 432x288 with 1 Axes>"
      ]
     },
     "metadata": {
      "needs_background": "light"
     },
     "output_type": "display_data"
    }
   ],
   "source": [
    "plt.scatter(songs_in_hour_pd[\"hour\"], songs_in_hour_pd[\"count\"])\n",
    "plt.xlim(-1, 24);\n",
    "plt.ylim(0, 1.2 * max(songs_in_hour_pd[\"count\"]))\n",
    "plt.xlabel(\"Hour\")\n",
    "plt.ylabel(\"Songs played\");"
   ]
  },
  {
   "cell_type": "markdown",
   "metadata": {},
   "source": [
    "# Drop Rows with Missing Values\n",
    "As you'll see, it turns out there are no missing values in the userID or session columns. But there are userID values that are empty strings."
   ]
  },
  {
   "cell_type": "code",
   "execution_count": 51,
   "metadata": {},
   "outputs": [],
   "source": [
    "user_log_valid = user_log.dropna(how = \"any\", subset = [\"userId\", \"sessionId\"])"
   ]
  },
  {
   "cell_type": "code",
   "execution_count": 52,
   "metadata": {},
   "outputs": [
    {
     "data": {
      "text/plain": [
       "8464"
      ]
     },
     "execution_count": 52,
     "metadata": {},
     "output_type": "execute_result"
    }
   ],
   "source": [
    "user_log_valid.count()"
   ]
  },
  {
   "cell_type": "code",
   "execution_count": 53,
   "metadata": {},
   "outputs": [
    {
     "name": "stdout",
     "output_type": "stream",
     "text": [
      "+------+\n",
      "|userId|\n",
      "+------+\n",
      "|      |\n",
      "|    10|\n",
      "|   100|\n",
      "|   101|\n",
      "|    11|\n",
      "|    12|\n",
      "|    13|\n",
      "|    14|\n",
      "|    15|\n",
      "|    16|\n",
      "|    17|\n",
      "|    18|\n",
      "|    19|\n",
      "|     2|\n",
      "|    20|\n",
      "|    21|\n",
      "|    22|\n",
      "|    23|\n",
      "|    24|\n",
      "|    25|\n",
      "+------+\n",
      "only showing top 20 rows\n",
      "\n"
     ]
    }
   ],
   "source": [
    "user_log.select(\"userId\").dropDuplicates().sort(\"userId\").show()"
   ]
  },
  {
   "cell_type": "code",
   "execution_count": 55,
   "metadata": {},
   "outputs": [],
   "source": [
    "user_log_valid = user_log_valid.filter(user_log_valid[\"userId\"] != \"\")"
   ]
  },
  {
   "cell_type": "code",
   "execution_count": 56,
   "metadata": {},
   "outputs": [
    {
     "data": {
      "text/plain": [
       "8171"
      ]
     },
     "execution_count": 56,
     "metadata": {},
     "output_type": "execute_result"
    }
   ],
   "source": [
    "user_log_valid.count()"
   ]
  },
  {
   "cell_type": "markdown",
   "metadata": {},
   "source": [
    "# Users Downgrade Their Accounts\n",
    "Find when users downgrade their accounts and then flag those log entries. Then use a window function and cumulative sum to distinguish each user's data as either pre or post downgrade events."
   ]
  },
  {
   "cell_type": "code",
   "execution_count": 57,
   "metadata": {},
   "outputs": [
    {
     "name": "stdout",
     "output_type": "stream",
     "text": [
      "+------+---------+---------+------+-------------+--------+------+-----+--------------------+------+----------------+-----------------+---------+----+------+-------------+--------------------+------+----+\n",
      "|artist|     auth|firstName|gender|itemInSession|lastName|length|level|            location|method|            page|     registration|sessionId|song|status|           ts|           userAgent|userId|hour|\n",
      "+------+---------+---------+------+-------------+--------+------+-----+--------------------+------+----------------+-----------------+---------+----+------+-------------+--------------------+------+----+\n",
      "|  null|Logged In|     Lily|     F|           23|    Koch|  null| paid|Chicago-Napervill...|   PUT|Submit Downgrade|1.541048010796E12|      764|null|   307|1542798517796|\"Mozilla/5.0 (X11...|    15|   5|\n",
      "+------+---------+---------+------+-------------+--------+------+-----+--------------------+------+----------------+-----------------+---------+----+------+-------------+--------------------+------+----+\n",
      "\n"
     ]
    }
   ],
   "source": [
    "user_log_valid.filter(\"page = 'Submit Downgrade'\").show()"
   ]
  },
  {
   "cell_type": "code",
   "execution_count": 67,
   "metadata": {},
   "outputs": [
    {
     "data": {
      "text/plain": [
       "[Row(userId='15', firstname='Lily', page='NextSong', level='paid', song='Black Hole Sun'),\n",
       " Row(userId='15', firstname='Lily', page='NextSong', level='paid', song='Addicted'),\n",
       " Row(userId='15', firstname='Lily', page='NextSong', level='paid', song='Air'),\n",
       " Row(userId='15', firstname='Lily', page='NextSong', level='paid', song='Superbeast'),\n",
       " Row(userId='15', firstname='Lily', page='NextSong', level='paid', song='I Remember'),\n",
       " Row(userId='15', firstname='Lily', page='NextSong', level='paid', song=\"You're The One\"),\n",
       " Row(userId='15', firstname='Lily', page='NextSong', level='paid', song='Fool'),\n",
       " Row(userId='15', firstname='Lily', page='NextSong', level='paid', song='Marguerite'),\n",
       " Row(userId='15', firstname='Lily', page='NextSong', level='paid', song='Brothers'),\n",
       " Row(userId='15', firstname='Lily', page='NextSong', level='paid', song='My Own Worst Enemy'),\n",
       " Row(userId='15', firstname='Lily', page='NextSong', level='paid', song='Time To Pretend'),\n",
       " Row(userId='15', firstname='Lily', page='NextSong', level='paid', song='Take Me Back'),\n",
       " Row(userId='15', firstname='Lily', page='NextSong', level='paid', song='Love Story'),\n",
       " Row(userId='15', firstname='Lily', page='NextSong', level='paid', song='Only Wanna Be With You (LP Version)'),\n",
       " Row(userId='15', firstname='Lily', page='NextSong', level='paid', song='Yeah!'),\n",
       " Row(userId='15', firstname='Lily', page='NextSong', level='paid', song='Heliospan'),\n",
       " Row(userId='15', firstname='Lily', page='NextSong', level='paid', song='Creil City'),\n",
       " Row(userId='15', firstname='Lily', page='NextSong', level='paid', song=\"I Need Your Lovin' (Like The Sunshine) (Radio Edit)\"),\n",
       " Row(userId='15', firstname='Lily', page='NextSong', level='paid', song=\"Froggie Went a-Courtin'\"),\n",
       " Row(userId='15', firstname='Lily', page='NextSong', level='paid', song='Ready To Meet Him'),\n",
       " Row(userId='15', firstname='Lily', page='NextSong', level='paid', song='Another Day In Paradise'),\n",
       " Row(userId='15', firstname='Lily', page='NextSong', level='paid', song='A Thousand Miles'),\n",
       " Row(userId='15', firstname='Lily', page='NextSong', level='paid', song='Alejandro'),\n",
       " Row(userId='15', firstname='Lily', page='NextSong', level='paid', song=\"A Woman In Love (It's Not Me)\"),\n",
       " Row(userId='15', firstname='Lily', page='NextSong', level='paid', song='Pyosisified (Rotten To The Gore)'),\n",
       " Row(userId='15', firstname='Lily', page='NextSong', level='paid', song='Manuel'),\n",
       " Row(userId='15', firstname='Lily', page='NextSong', level='paid', song='Secrets'),\n",
       " Row(userId='15', firstname='Lily', page='Downgrade', level='paid', song=None),\n",
       " Row(userId='15', firstname='Lily', page='Submit Downgrade', level='paid', song=None),\n",
       " Row(userId='15', firstname='Lily', page='Home', level='free', song=None),\n",
       " Row(userId='15', firstname='Lily', page='NextSong', level='free', song='I Get Joy'),\n",
       " Row(userId='15', firstname='Lily', page='Upgrade', level='free', song=None),\n",
       " Row(userId='15', firstname='Lily', page='Submit Upgrade', level='free', song=None),\n",
       " Row(userId='15', firstname='Lily', page='Home', level='paid', song=None),\n",
       " Row(userId='15', firstname='Lily', page='Settings', level='paid', song=None),\n",
       " Row(userId='15', firstname='Lily', page='Save Settings', level='paid', song=None),\n",
       " Row(userId='15', firstname='Lily', page='Home', level='paid', song=None),\n",
       " Row(userId='15', firstname='Lily', page='NextSong', level='paid', song='Breakeven'),\n",
       " Row(userId='15', firstname='Lily', page='NextSong', level='paid', song='Home'),\n",
       " Row(userId='15', firstname='Lily', page='NextSong', level='paid', song='Recado Falado (MetrÃ\\x83Â´ Da Saudade)'),\n",
       " Row(userId='15', firstname='Lily', page='NextSong', level='paid', song='Introductions'),\n",
       " Row(userId='15', firstname='Lily', page='NextSong', level='paid', song='Scream (Album Version)'),\n",
       " Row(userId='15', firstname='Lily', page='NextSong', level='paid', song='Spanish Lady (Live From Slane Castle)'),\n",
       " Row(userId='15', firstname='Lily', page='NextSong', level='paid', song='Jesus Built My Hotrod (Short_ Pusillanimous_ So-They-Can-Fit-More Commercials-On-The-Radio Edit)'),\n",
       " Row(userId='15', firstname='Lily', page='NextSong', level='paid', song='Vzpominky IV.'),\n",
       " Row(userId='15', firstname='Lily', page='NextSong', level='paid', song='Nothing Compares 2 U'),\n",
       " Row(userId='15', firstname='Lily', page='NextSong', level='paid', song=\"Savin' Me\"),\n",
       " Row(userId='15', firstname='Lily', page='NextSong', level='paid', song=\"I'm Gonna Find Another You\"),\n",
       " Row(userId='15', firstname='Lily', page='NextSong', level='paid', song='Him'),\n",
       " Row(userId='15', firstname='Lily', page='NextSong', level='paid', song='Weird Fishes/Arpeggi'),\n",
       " Row(userId='15', firstname='Lily', page='NextSong', level='paid', song='Untitled'),\n",
       " Row(userId='15', firstname='Lily', page='NextSong', level='paid', song='Classic Girl (2006 Remastered Album Version)'),\n",
       " Row(userId='15', firstname='Lily', page='NextSong', level='paid', song=\"You're The One\"),\n",
       " Row(userId='15', firstname='Lily', page='NextSong', level='paid', song='Supermassive Black Hole (Twilight Soundtrack Version)'),\n",
       " Row(userId='15', firstname='Lily', page='NextSong', level='paid', song='Sorry (Man With Guitar Mix)'),\n",
       " Row(userId='15', firstname='Lily', page='NextSong', level='paid', song='Estoy harto de tÃ\\x83Â\\xad'),\n",
       " Row(userId='15', firstname='Lily', page='NextSong', level='paid', song='Bring Me To Life'),\n",
       " Row(userId='15', firstname='Lily', page='NextSong', level='paid', song='Fireflies'),\n",
       " Row(userId='15', firstname='Lily', page='NextSong', level='paid', song='Body Language'),\n",
       " Row(userId='15', firstname='Lily', page='Help', level='paid', song=None),\n",
       " Row(userId='15', firstname='Lily', page='NextSong', level='paid', song='Joey'),\n",
       " Row(userId='15', firstname='Lily', page='NextSong', level='paid', song=\"All I've Got\"),\n",
       " Row(userId='15', firstname='Lily', page='NextSong', level='paid', song='Karmacoma'),\n",
       " Row(userId='15', firstname='Lily', page='NextSong', level='paid', song='In Earnest (live)'),\n",
       " Row(userId='15', firstname='Lily', page='NextSong', level='paid', song='Word Up!'),\n",
       " Row(userId='15', firstname='Lily', page='NextSong', level='paid', song='My Place'),\n",
       " Row(userId='15', firstname='Lily', page='NextSong', level='paid', song='Dusk And Summer'),\n",
       " Row(userId='15', firstname='Lily', page='NextSong', level='paid', song='Cross Your Fingers (Single Version)'),\n",
       " Row(userId='15', firstname='Lily', page='NextSong', level='paid', song='Hypnotize(Album Version)'),\n",
       " Row(userId='15', firstname='Lily', page='NextSong', level='paid', song='Apology'),\n",
       " Row(userId='15', firstname='Lily', page='NextSong', level='paid', song='My Happy Ending'),\n",
       " Row(userId='15', firstname='Lily', page='NextSong', level='paid', song='How To Disappear Completely'),\n",
       " Row(userId='15', firstname='Lily', page='NextSong', level='paid', song='Thank You'),\n",
       " Row(userId='15', firstname='Lily', page='Home', level='paid', song=None),\n",
       " Row(userId='15', firstname='Lily', page='NextSong', level='paid', song='Battle Metal'),\n",
       " Row(userId='15', firstname='Lily', page='NextSong', level='paid', song='Checking On My Baby'),\n",
       " Row(userId='15', firstname='Lily', page='NextSong', level='paid', song='Sharada'),\n",
       " Row(userId='15', firstname='Lily', page='NextSong', level='paid', song='Best Love'),\n",
       " Row(userId='15', firstname='Lily', page='NextSong', level='paid', song='Hey Sexy Lady'),\n",
       " Row(userId='15', firstname='Lily', page='NextSong', level='paid', song=\"Look What You've Done (LP Version)\"),\n",
       " Row(userId='15', firstname='Lily', page='NextSong', level='paid', song='Be With You'),\n",
       " Row(userId='15', firstname='Lily', page='NextSong', level='paid', song='Here_ There And Everywhere'),\n",
       " Row(userId='15', firstname='Lily', page='Home', level='paid', song=None),\n",
       " Row(userId='15', firstname='Lily', page='NextSong', level='paid', song='All Summer Long (Album Version)'),\n",
       " Row(userId='15', firstname='Lily', page='NextSong', level='paid', song='Barfly'),\n",
       " Row(userId='15', firstname='Lily', page='NextSong', level='paid', song='Meeting Paris Hilton (Album)'),\n",
       " Row(userId='15', firstname='Lily', page='NextSong', level='paid', song='Live High (Album Version)'),\n",
       " Row(userId='15', firstname='Lily', page='NextSong', level='paid', song='Setanta matins'),\n",
       " Row(userId='15', firstname='Lily', page='NextSong', level='paid', song='Her Voice Resides'),\n",
       " Row(userId='15', firstname='Lily', page='NextSong', level='paid', song='Deepest Blue'),\n",
       " Row(userId='15', firstname='Lily', page='NextSong', level='paid', song='The Crabs'),\n",
       " Row(userId='15', firstname='Lily', page='NextSong', level='paid', song='Jesus Wrote a Blank Check'),\n",
       " Row(userId='15', firstname='Lily', page='NextSong', level='paid', song='El Castillo'),\n",
       " Row(userId='15', firstname='Lily', page='NextSong', level='paid', song='Around The Way Girl'),\n",
       " Row(userId='15', firstname='Lily', page='NextSong', level='paid', song='La Suerte De Mi Vida'),\n",
       " Row(userId='15', firstname='Lily', page='NextSong', level='paid', song='Canada'),\n",
       " Row(userId='15', firstname='Lily', page='NextSong', level='paid', song='Too Shy'),\n",
       " Row(userId='15', firstname='Lily', page='NextSong', level='paid', song='Dime Tu'),\n",
       " Row(userId='15', firstname='Lily', page='NextSong', level='paid', song='Ghosts Of War'),\n",
       " Row(userId='15', firstname='Lily', page='NextSong', level='paid', song='You Left Me'),\n",
       " Row(userId='15', firstname='Lily', page='NextSong', level='paid', song='What If (Film Version)'),\n",
       " Row(userId='15', firstname='Lily', page='NextSong', level='paid', song='Snow On A Hot Day'),\n",
       " Row(userId='15', firstname='Lily', page='NextSong', level='paid', song='paranoid android'),\n",
       " Row(userId='15', firstname='Lily', page='NextSong', level='paid', song='RoboCop'),\n",
       " Row(userId='15', firstname='Lily', page='NextSong', level='paid', song='Digital'),\n",
       " Row(userId='15', firstname='Lily', page='NextSong', level='paid', song='I Say A Little Prayer'),\n",
       " Row(userId='15', firstname='Lily', page='NextSong', level='paid', song='Back Against The Wall'),\n",
       " Row(userId='15', firstname='Lily', page='NextSong', level='paid', song=\"She's My Rock\"),\n",
       " Row(userId='15', firstname='Lily', page='NextSong', level='paid', song='Like Whoa'),\n",
       " Row(userId='15', firstname='Lily', page='NextSong', level='paid', song='Girl'),\n",
       " Row(userId='15', firstname='Lily', page='NextSong', level='paid', song='Sons & Daughters'),\n",
       " Row(userId='15', firstname='Lily', page='NextSong', level='paid', song='MOSKAU'),\n",
       " Row(userId='15', firstname='Lily', page='NextSong', level='paid', song='Worrisome Heart'),\n",
       " Row(userId='15', firstname='Lily', page='NextSong', level='paid', song='Calabria 2007'),\n",
       " Row(userId='15', firstname='Lily', page='NextSong', level='paid', song='Affliction'),\n",
       " Row(userId='15', firstname='Lily', page='NextSong', level='paid', song='Home'),\n",
       " Row(userId='15', firstname='Lily', page='NextSong', level='paid', song='Poison'),\n",
       " Row(userId='15', firstname='Lily', page='NextSong', level='paid', song='Come On (Album Version)'),\n",
       " Row(userId='15', firstname='Lily', page='NextSong', level='paid', song='Here Without You'),\n",
       " Row(userId='15', firstname='Lily', page='NextSong', level='paid', song='Sky Blue And Black (LP Version)'),\n",
       " Row(userId='15', firstname='Lily', page='Home', level='paid', song=None),\n",
       " Row(userId='15', firstname='Lily', page='NextSong', level='paid', song=\"He's Got You\"),\n",
       " Row(userId='15', firstname='Lily', page='NextSong', level='paid', song='Ban The Tube Top'),\n",
       " Row(userId='15', firstname='Lily', page='NextSong', level='paid', song=\"I'll Just Fall\"),\n",
       " Row(userId='15', firstname='Lily', page='NextSong', level='paid', song='Yeah!'),\n",
       " Row(userId='15', firstname='Lily', page='NextSong', level='paid', song='Use It'),\n",
       " Row(userId='15', firstname='Lily', page='NextSong', level='paid', song='Everything Is Alright (Album Version)'),\n",
       " Row(userId='15', firstname='Lily', page='Help', level='paid', song=None),\n",
       " Row(userId='15', firstname='Lily', page='NextSong', level='paid', song='Bodies'),\n",
       " Row(userId='15', firstname='Lily', page='NextSong', level='paid', song='Strange Fruit'),\n",
       " Row(userId='15', firstname='Lily', page='NextSong', level='paid', song='Good Directions'),\n",
       " Row(userId='15', firstname='Lily', page='NextSong', level='paid', song='How Long'),\n",
       " Row(userId='15', firstname='Lily', page='NextSong', level='paid', song=\"Here's Your Sign Christmas (Album Version)\"),\n",
       " Row(userId='15', firstname='Lily', page='NextSong', level='paid', song=\"Efils' God\"),\n",
       " Row(userId='15', firstname='Lily', page='NextSong', level='paid', song='Melody Of Life'),\n",
       " Row(userId='15', firstname='Lily', page='NextSong', level='paid', song='With Legs Like That'),\n",
       " Row(userId='15', firstname='Lily', page='NextSong', level='paid', song='Everlong'),\n",
       " Row(userId='15', firstname='Lily', page='NextSong', level='paid', song='Romeo And Juliet'),\n",
       " Row(userId='15', firstname='Lily', page='NextSong', level='paid', song='The Power of Orange Knickers'),\n",
       " Row(userId='15', firstname='Lily', page='NextSong', level='paid', song='St. Elsewhere'),\n",
       " Row(userId='15', firstname='Lily', page='Downgrade', level='paid', song=None),\n",
       " Row(userId='15', firstname='Lily', page='NextSong', level='paid', song='Mise En Bouche'),\n",
       " Row(userId='15', firstname='Lily', page='NextSong', level='paid', song=\"I'm Goin In\"),\n",
       " Row(userId='15', firstname='Lily', page='Home', level='paid', song=None),\n",
       " Row(userId='15', firstname='Lily', page='NextSong', level='paid', song='P.I.G.S.'),\n",
       " Row(userId='15', firstname='Lily', page='NextSong', level='paid', song='Soldier'),\n",
       " Row(userId='15', firstname='Lily', page='NextSong', level='paid', song='Siguiendo La Luna'),\n",
       " Row(userId='15', firstname='Lily', page='NextSong', level='paid', song='Lights'),\n",
       " Row(userId='15', firstname='Lily', page='NextSong', level='paid', song='Loverboy'),\n",
       " Row(userId='15', firstname='Lily', page='NextSong', level='paid', song='Metele Sazon'),\n",
       " Row(userId='15', firstname='Lily', page='NextSong', level='paid', song='Foxtrot Uniform Charlie Kilo'),\n",
       " Row(userId='15', firstname='Lily', page='Downgrade', level='paid', song=None),\n",
       " Row(userId='15', firstname='Lily', page='NextSong', level='paid', song='The Runner'),\n",
       " Row(userId='15', firstname='Lily', page='NextSong', level='paid', song='Run To The Hills (1998 Digital Remaster)'),\n",
       " Row(userId='15', firstname='Lily', page='NextSong', level='paid', song='MarÃ\\x83Â\\xada'),\n",
       " Row(userId='15', firstname='Lily', page='NextSong', level='paid', song='All Of This'),\n",
       " Row(userId='15', firstname='Lily', page='NextSong', level='paid', song='The Funeral (Album Version)'),\n",
       " Row(userId='15', firstname='Lily', page='NextSong', level='paid', song='De Anza Jig'),\n",
       " Row(userId='15', firstname='Lily', page='NextSong', level='paid', song='Walking 2 Hawaii'),\n",
       " Row(userId='15', firstname='Lily', page='NextSong', level='paid', song='Spectrum'),\n",
       " Row(userId='15', firstname='Lily', page='NextSong', level='paid', song='Je Veux Te Voir (Radio Edit)'),\n",
       " Row(userId='15', firstname='Lily', page='NextSong', level='paid', song='Revelry'),\n",
       " Row(userId='15', firstname='Lily', page='NextSong', level='paid', song='Everlong'),\n",
       " Row(userId='15', firstname='Lily', page='NextSong', level='paid', song='Stronger'),\n",
       " Row(userId='15', firstname='Lily', page='NextSong', level='paid', song='Wonderful'),\n",
       " Row(userId='15', firstname='Lily', page='NextSong', level='paid', song='Instead'),\n",
       " Row(userId='15', firstname='Lily', page='NextSong', level='paid', song='The Climb'),\n",
       " Row(userId='15', firstname='Lily', page='NextSong', level='paid', song='Yellow'),\n",
       " Row(userId='15', firstname='Lily', page='NextSong', level='paid', song='Reign Of The Tyrants'),\n",
       " Row(userId='15', firstname='Lily', page='NextSong', level='paid', song='Gimme The Loot (Album Version)'),\n",
       " Row(userId='15', firstname='Lily', page='NextSong', level='paid', song='Ha Ha (KCRW.com Presents)'),\n",
       " Row(userId='15', firstname='Lily', page='NextSong', level='paid', song='Punk Rock Girl'),\n",
       " Row(userId='15', firstname='Lily', page='NextSong', level='paid', song='The Auld Triangle (Album Version)'),\n",
       " Row(userId='15', firstname='Lily', page='NextSong', level='paid', song='Top Yourself'),\n",
       " Row(userId='15', firstname='Lily', page='NextSong', level='paid', song='Nowhere To Go'),\n",
       " Row(userId='15', firstname='Lily', page='NextSong', level='paid', song='Skinny Love'),\n",
       " Row(userId='15', firstname='Lily', page='NextSong', level='paid', song='Prisoner Of Society (Album Version)'),\n",
       " Row(userId='15', firstname='Lily', page='NextSong', level='paid', song='Lift Me Up'),\n",
       " Row(userId='15', firstname='Lily', page='NextSong', level='paid', song='Cosmic Love'),\n",
       " Row(userId='15', firstname='Lily', page='NextSong', level='paid', song='Sometimes (Hook N Sling Remix)'),\n",
       " Row(userId='15', firstname='Lily', page='NextSong', level='paid', song='B Somebody'),\n",
       " Row(userId='15', firstname='Lily', page='NextSong', level='paid', song='Pumpkin Soup'),\n",
       " Row(userId='15', firstname='Lily', page='NextSong', level='paid', song='Waarom Fluister Ik Je Naam Nog'),\n",
       " Row(userId='15', firstname='Lily', page='NextSong', level='paid', song='All That I Need'),\n",
       " Row(userId='15', firstname='Lily', page='NextSong', level='paid', song='Chinese Invade'),\n",
       " Row(userId='15', firstname='Lily', page='NextSong', level='paid', song='Buttons'),\n",
       " Row(userId='15', firstname='Lily', page='NextSong', level='paid', song='Beautiful Stranger'),\n",
       " Row(userId='15', firstname='Lily', page='NextSong', level='paid', song='Hey There Mr. Brooks (feat. Feat. Shawn Mike of Alesana)'),\n",
       " Row(userId='15', firstname='Lily', page='NextSong', level='paid', song='Mercy:The Laundromat'),\n",
       " Row(userId='15', firstname='Lily', page='NextSong', level='paid', song='Bubble Toes'),\n",
       " Row(userId='15', firstname='Lily', page='NextSong', level='paid', song='Calling All Angels'),\n",
       " Row(userId='15', firstname='Lily', page='NextSong', level='paid', song='Oh Boy'),\n",
       " Row(userId='15', firstname='Lily', page='NextSong', level='paid', song=\"When It's Over (Remastered Album Version)\"),\n",
       " Row(userId='15', firstname='Lily', page='NextSong', level='paid', song='Broken-Hearted Girl'),\n",
       " Row(userId='15', firstname='Lily', page='NextSong', level='paid', song='Last Cup Of Sorrow'),\n",
       " Row(userId='15', firstname='Lily', page='NextSong', level='paid', song='Kvinde Din - MÃ\\x83Â¸gluder'),\n",
       " Row(userId='15', firstname='Lily', page='NextSong', level='paid', song='Demon Sweat'),\n",
       " Row(userId='15', firstname='Lily', page='NextSong', level='paid', song='No Presents For Christmas'),\n",
       " Row(userId='15', firstname='Lily', page='NextSong', level='paid', song=\"Somethin' (feat. Phonte from Little Brother)\"),\n",
       " Row(userId='15', firstname='Lily', page='NextSong', level='paid', song='Complexity Reducer'),\n",
       " Row(userId='15', firstname='Lily', page='NextSong', level='paid', song='Porno Graphique'),\n",
       " Row(userId='15', firstname='Lily', page='NextSong', level='paid', song='Horseshoes And Handgrenades (Album Version)'),\n",
       " Row(userId='15', firstname='Lily', page='NextSong', level='paid', song='Adventures In Solitude'),\n",
       " Row(userId='15', firstname='Lily', page='NextSong', level='paid', song='Goons Lurkin (Explicit Album Version)'),\n",
       " Row(userId='15', firstname='Lily', page='NextSong', level='paid', song='Gears'),\n",
       " Row(userId='15', firstname='Lily', page='NextSong', level='paid', song='In The End (Album Version)'),\n",
       " Row(userId='15', firstname='Lily', page='NextSong', level='paid', song='Moving Forward (feat. Late_ M.E.N.I.S. & Caper)'),\n",
       " Row(userId='15', firstname='Lily', page='NextSong', level='paid', song='A Year Or Two'),\n",
       " Row(userId='15', firstname='Lily', page='NextSong', level='paid', song=\"Joe's Head\"),\n",
       " Row(userId='15', firstname='Lily', page='NextSong', level='paid', song='Resistance'),\n",
       " Row(userId='15', firstname='Lily', page='NextSong', level='paid', song='Yellow Zone'),\n",
       " Row(userId='15', firstname='Lily', page='NextSong', level='paid', song='Dick In A Box'),\n",
       " Row(userId='15', firstname='Lily', page='NextSong', level='paid', song=\"I'm In Miami Bitch\"),\n",
       " Row(userId='15', firstname='Lily', page='NextSong', level='paid', song='Shattered By Broken Dreams'),\n",
       " Row(userId='15', firstname='Lily', page='Logout', level='paid', song=None),\n",
       " Row(userId='15', firstname='Lily', page='NextSong', level='paid', song='Soliloquy Of Chaos (Explicit)'),\n",
       " Row(userId='15', firstname='Lily', page='Home', level='paid', song=None),\n",
       " Row(userId='15', firstname='Lily', page='NextSong', level='paid', song='When It Rains (Album Version)'),\n",
       " Row(userId='15', firstname='Lily', page='NextSong', level='paid', song='Forever Not Yours (Album Version  - NY Mix II)'),\n",
       " Row(userId='15', firstname='Lily', page='NextSong', level='paid', song='Down To My Last'),\n",
       " Row(userId='15', firstname='Lily', page='NextSong', level='paid', song='Walking In The Air'),\n",
       " Row(userId='15', firstname='Lily', page='NextSong', level='paid', song='Ring My Bell'),\n",
       " Row(userId='15', firstname='Lily', page='NextSong', level='paid', song='Slow Death'),\n",
       " Row(userId='15', firstname='Lily', page='Settings', level='paid', song=None),\n",
       " Row(userId='15', firstname='Lily', page='Save Settings', level='paid', song=None),\n",
       " Row(userId='15', firstname='Lily', page='Home', level='paid', song=None),\n",
       " Row(userId='15', firstname='Lily', page='NextSong', level='paid', song='Canada'),\n",
       " Row(userId='15', firstname='Lily', page='NextSong', level='paid', song='Pace E Guerra'),\n",
       " Row(userId='15', firstname='Lily', page='Home', level='paid', song=None),\n",
       " Row(userId='15', firstname='Lily', page='NextSong', level='paid', song=\"I'll Never Get Over You Getting Over Me\"),\n",
       " Row(userId='15', firstname='Lily', page='NextSong', level='paid', song='I Still Want To Be Your Baby (Take Me Like I Am)'),\n",
       " Row(userId='15', firstname='Lily', page='NextSong', level='paid', song='Paradise City'),\n",
       " Row(userId='15', firstname='Lily', page='NextSong', level='paid', song='Death On Two Legs (Dedicated To....) (Live) (1994 Digital Remaster)'),\n",
       " Row(userId='15', firstname='Lily', page='NextSong', level='paid', song='Teen Angst'),\n",
       " Row(userId='15', firstname='Lily', page='NextSong', level='paid', song='Undo'),\n",
       " Row(userId='15', firstname='Lily', page='NextSong', level='paid', song='Recognize'),\n",
       " Row(userId='15', firstname='Lily', page='NextSong', level='paid', song='Fans'),\n",
       " Row(userId='15', firstname='Lily', page='NextSong', level='paid', song='Someday (Remastered LP Version)'),\n",
       " Row(userId='15', firstname='Lily', page='NextSong', level='paid', song='Rock Star'),\n",
       " Row(userId='15', firstname='Lily', page='NextSong', level='paid', song='Uninvisible'),\n",
       " Row(userId='15', firstname='Lily', page='NextSong', level='paid', song='A Summer Song'),\n",
       " Row(userId='15', firstname='Lily', page='NextSong', level='paid', song='Have Love_ Will Travel'),\n",
       " Row(userId='15', firstname='Lily', page='NextSong', level='paid', song='No Fit State'),\n",
       " Row(userId='15', firstname='Lily', page='NextSong', level='paid', song='Missing (Live in Europe)'),\n",
       " Row(userId='15', firstname='Lily', page='NextSong', level='paid', song=\"Deep Inside (Harry Choo Choo Romero's Bambossa Remix)\"),\n",
       " Row(userId='15', firstname='Lily', page='NextSong', level='paid', song='Burn Out'),\n",
       " Row(userId='15', firstname='Lily', page='NextSong', level='paid', song='Politik'),\n",
       " Row(userId='15', firstname='Lily', page='NextSong', level='paid', song='Human After All'),\n",
       " Row(userId='15', firstname='Lily', page='NextSong', level='paid', song='Savior'),\n",
       " Row(userId='15', firstname='Lily', page='NextSong', level='paid', song='Love Will Keep Us Together'),\n",
       " Row(userId='15', firstname='Lily', page='NextSong', level='paid', song='Purple Weed'),\n",
       " Row(userId='15', firstname='Lily', page='Logout', level='paid', song=None),\n",
       " Row(userId='15', firstname='Lily', page='Home', level='paid', song=None),\n",
       " Row(userId='15', firstname='Lily', page='NextSong', level='paid', song='Keep Holding On'),\n",
       " Row(userId='15', firstname='Lily', page='NextSong', level='paid', song='When The Children Cry'),\n",
       " Row(userId='15', firstname='Lily', page='NextSong', level='paid', song='You And Me (Wedding Version)'),\n",
       " Row(userId='15', firstname='Lily', page='NextSong', level='paid', song='The Climb'),\n",
       " Row(userId='15', firstname='Lily', page='NextSong', level='paid', song='Lanky (Part One)'),\n",
       " Row(userId='15', firstname='Lily', page='NextSong', level='paid', song='Sugar Ray (LP Version)'),\n",
       " Row(userId='15', firstname='Lily', page='NextSong', level='paid', song='Guaranteed'),\n",
       " Row(userId='15', firstname='Lily', page='NextSong', level='paid', song='Verde Que Te Quero Rosa'),\n",
       " Row(userId='15', firstname='Lily', page='NextSong', level='paid', song='Good Man'),\n",
       " Row(userId='15', firstname='Lily', page='NextSong', level='paid', song='Halo'),\n",
       " Row(userId='15', firstname='Lily', page='NextSong', level='paid', song='Take Me Out'),\n",
       " Row(userId='15', firstname='Lily', page='NextSong', level='paid', song='Itchy Feet'),\n",
       " Row(userId='15', firstname='Lily', page='NextSong', level='paid', song='Aerodynamic (Daft Punk Remix)'),\n",
       " Row(userId='15', firstname='Lily', page='NextSong', level='paid', song='Narc'),\n",
       " Row(userId='15', firstname='Lily', page='NextSong', level='paid', song='On A Ragga Tip'),\n",
       " Row(userId='15', firstname='Lily', page='NextSong', level='paid', song=\"While You're Still Young\"),\n",
       " Row(userId='15', firstname='Lily', page='NextSong', level='paid', song='Hotel'),\n",
       " Row(userId='15', firstname='Lily', page='NextSong', level='paid', song=\"Nothin' On You [feat. Bruno Mars] (Album Version)\"),\n",
       " Row(userId='15', firstname='Lily', page='NextSong', level='paid', song='Ghost Town'),\n",
       " Row(userId='15', firstname='Lily', page='NextSong', level='paid', song='Brooklyn Zoo [Explicit Version]'),\n",
       " Row(userId='15', firstname='Lily', page='NextSong', level='paid', song='Bubble Toes'),\n",
       " Row(userId='15', firstname='Lily', page='NextSong', level='paid', song='You'),\n",
       " Row(userId='15', firstname='Lily', page='NextSong', level='paid', song='Nobody Puts Baby In The Corner'),\n",
       " Row(userId='15', firstname='Lily', page='NextSong', level='paid', song='Not Fair (Clean Radio Edit)'),\n",
       " Row(userId='15', firstname='Lily', page='NextSong', level='paid', song='Section Ten'),\n",
       " Row(userId='15', firstname='Lily', page='NextSong', level='paid', song='ReprÃ\\x83Â©sente'),\n",
       " Row(userId='15', firstname='Lily', page='NextSong', level='paid', song='Given Up (Album Version)'),\n",
       " Row(userId='15', firstname='Lily', page='NextSong', level='paid', song='Nothing Else ReMayns'),\n",
       " Row(userId='15', firstname='Lily', page='NextSong', level='paid', song='Your Father'),\n",
       " Row(userId='15', firstname='Lily', page='NextSong', level='paid', song='Long Way To Go'),\n",
       " Row(userId='15', firstname='Lily', page='NextSong', level='paid', song='The Crow & The Butterfly (Album Version)'),\n",
       " Row(userId='15', firstname='Lily', page='NextSong', level='paid', song=\"Slim's Shout\"),\n",
       " Row(userId='15', firstname='Lily', page='Home', level='paid', song=None),\n",
       " Row(userId='15', firstname='Lily', page='NextSong', level='paid', song='Mambo No. 5 (A Little Bit Of...)'),\n",
       " Row(userId='15', firstname='Lily', page='NextSong', level='paid', song='Matricide'),\n",
       " Row(userId='15', firstname='Lily', page='NextSong', level='paid', song='There_ There'),\n",
       " Row(userId='15', firstname='Lily', page='NextSong', level='paid', song='Ode to LRC (Album)'),\n",
       " Row(userId='15', firstname='Lily', page='NextSong', level='paid', song='My Immortal (Album Version)'),\n",
       " Row(userId='15', firstname='Lily', page='NextSong', level='paid', song='Mockingbird'),\n",
       " Row(userId='15', firstname='Lily', page='NextSong', level='paid', song='A Letter To Myself'),\n",
       " Row(userId='15', firstname='Lily', page='NextSong', level='paid', song='Multiplicados por nueve'),\n",
       " Row(userId='15', firstname='Lily', page='NextSong', level='paid', song='I Can See'),\n",
       " Row(userId='15', firstname='Lily', page='NextSong', level='paid', song='Let Me (Amended Album Version)'),\n",
       " Row(userId='15', firstname='Lily', page='NextSong', level='paid', song='Time To Pretend'),\n",
       " Row(userId='15', firstname='Lily', page='NextSong', level='paid', song='Lambada'),\n",
       " Row(userId='15', firstname='Lily', page='NextSong', level='paid', song='Chan Chan (Live)'),\n",
       " Row(userId='15', firstname='Lily', page='NextSong', level='paid', song=\"Tears Don't Fall\"),\n",
       " Row(userId='15', firstname='Lily', page='NextSong', level='paid', song='Red Room Blues'),\n",
       " Row(userId='15', firstname='Lily', page='NextSong', level='paid', song='Au Revoir (Album Version)'),\n",
       " Row(userId='15', firstname='Lily', page='NextSong', level='paid', song='The Gift'),\n",
       " Row(userId='15', firstname='Lily', page='NextSong', level='paid', song='(I Got Everything I Need) Almost (Live Version)'),\n",
       " Row(userId='15', firstname='Lily', page='Home', level='paid', song=None),\n",
       " Row(userId='15', firstname='Lily', page='NextSong', level='paid', song='A Love Supreme'),\n",
       " Row(userId='15', firstname='Lily', page='NextSong', level='paid', song='White Is In The Winter Night (Album)'),\n",
       " Row(userId='15', firstname='Lily', page='NextSong', level='paid', song='Cover Me'),\n",
       " Row(userId='15', firstname='Lily', page='NextSong', level='paid', song='Hong Kong'),\n",
       " Row(userId='15', firstname='Lily', page='NextSong', level='paid', song='Fim De Caso'),\n",
       " Row(userId='15', firstname='Lily', page='NextSong', level='paid', song='Take Over The World'),\n",
       " Row(userId='15', firstname='Lily', page='NextSong', level='paid', song=\"Messin' With The Kid (Live Version)\"),\n",
       " Row(userId='15', firstname='Lily', page='NextSong', level='paid', song=\"Barber's Adagio For Strings (Ferry Corsten Remix)\"),\n",
       " Row(userId='15', firstname='Lily', page='NextSong', level='paid', song='Life In Technicolor ii'),\n",
       " Row(userId='15', firstname='Lily', page='NextSong', level='paid', song='84 Pontiac Dream'),\n",
       " Row(userId='15', firstname='Lily', page='NextSong', level='paid', song='Sea Of Love'),\n",
       " Row(userId='15', firstname='Lily', page='NextSong', level='paid', song='Crumpshit'),\n",
       " Row(userId='15', firstname='Lily', page='NextSong', level='paid', song='Life In A Northern Town (LP Version)'),\n",
       " Row(userId='15', firstname='Lily', page='NextSong', level='paid', song='Planet Caravan (Remastered LP Version)'),\n",
       " Row(userId='15', firstname='Lily', page='NextSong', level='paid', song='Music'),\n",
       " Row(userId='15', firstname='Lily', page='NextSong', level='paid', song=\"Don't Stop The Fight\"),\n",
       " Row(userId='15', firstname='Lily', page='NextSong', level='paid', song='Everlong'),\n",
       " Row(userId='15', firstname='Lily', page='NextSong', level='paid', song='Quiet Please'),\n",
       " Row(userId='15', firstname='Lily', page='NextSong', level='paid', song='Never Give Up'),\n",
       " Row(userId='15', firstname='Lily', page='NextSong', level='paid', song='Miss Sobriety (Album Version)'),\n",
       " Row(userId='15', firstname='Lily', page='NextSong', level='paid', song=\"Rockin' Rollin' Stone\"),\n",
       " Row(userId='15', firstname='Lily', page='NextSong', level='paid', song='Liezah'),\n",
       " Row(userId='15', firstname='Lily', page='NextSong', level='paid', song='Pain & Torture'),\n",
       " Row(userId='15', firstname='Lily', page='NextSong', level='paid', song='Life'),\n",
       " Row(userId='15', firstname='Lily', page='NextSong', level='paid', song='Que pides tu?'),\n",
       " Row(userId='15', firstname='Lily', page='NextSong', level='paid', song='240 Years Before Your Time'),\n",
       " Row(userId='15', firstname='Lily', page='NextSong', level='paid', song='Numb'),\n",
       " Row(userId='15', firstname='Lily', page='NextSong', level='paid', song=\"Ain't What It Used To Be\"),\n",
       " Row(userId='15', firstname='Lily', page='NextSong', level='paid', song='Move Away'),\n",
       " Row(userId='15', firstname='Lily', page='NextSong', level='paid', song='Right Now (Produced by Ayatollah)'),\n",
       " Row(userId='15', firstname='Lily', page='NextSong', level='paid', song='Second Chance (Album Version)'),\n",
       " Row(userId='15', firstname='Lily', page='NextSong', level='paid', song='Laid In Earth'),\n",
       " Row(userId='15', firstname='Lily', page='NextSong', level='paid', song='I Like It Like That'),\n",
       " Row(userId='15', firstname='Lily', page='NextSong', level='paid', song='The Key (Album Version)'),\n",
       " Row(userId='15', firstname='Lily', page='NextSong', level='paid', song='Who Can Compare'),\n",
       " Row(userId='15', firstname='Lily', page='NextSong', level='paid', song='Dame La Mano Juancho'),\n",
       " Row(userId='15', firstname='Lily', page='NextSong', level='paid', song=\"I Love Playin'  With Fire\"),\n",
       " Row(userId='15', firstname='Lily', page='NextSong', level='paid', song='Suddenly'),\n",
       " Row(userId='15', firstname='Lily', page='NextSong', level='paid', song='El Kilo'),\n",
       " Row(userId='15', firstname='Lily', page='NextSong', level='paid', song='Greece 2000'),\n",
       " Row(userId='15', firstname='Lily', page='Settings', level='paid', song=None),\n",
       " Row(userId='15', firstname='Lily', page='NextSong', level='paid', song='Festival (Of 7 Lights)'),\n",
       " Row(userId='15', firstname='Lily', page='NextSong', level='paid', song=\"Don't Be Shallow\"),\n",
       " Row(userId='15', firstname='Lily', page='NextSong', level='paid', song='The Black Crow Knows'),\n",
       " Row(userId='15', firstname='Lily', page='NextSong', level='paid', song='Video Killed The Radio Star'),\n",
       " Row(userId='15', firstname='Lily', page='NextSong', level='paid', song='Pursuit Of Happiness (nightmare)'),\n",
       " Row(userId='15', firstname='Lily', page='NextSong', level='paid', song='Road To Zion'),\n",
       " Row(userId='15', firstname='Lily', page='NextSong', level='paid', song='Pushing Me Away (Album Version)'),\n",
       " Row(userId='15', firstname='Lily', page='NextSong', level='paid', song='Killa'),\n",
       " Row(userId='15', firstname='Lily', page='NextSong', level='paid', song='Lonesome Road'),\n",
       " Row(userId='15', firstname='Lily', page='NextSong', level='paid', song='Hey There Mr. Brooks (feat. Feat. Shawn Mike of Alesana)'),\n",
       " Row(userId='15', firstname='Lily', page='NextSong', level='paid', song='The Chariot'),\n",
       " Row(userId='15', firstname='Lily', page='NextSong', level='paid', song='Journey To The Past  (LP Version)'),\n",
       " Row(userId='15', firstname='Lily', page='NextSong', level='paid', song='Everything I Try to Do_ Nothing Seems to Turn Out Right'),\n",
       " Row(userId='15', firstname='Lily', page='NextSong', level='paid', song='Impossible'),\n",
       " Row(userId='15', firstname='Lily', page='NextSong', level='paid', song='Secrets'),\n",
       " Row(userId='15', firstname='Lily', page='NextSong', level='paid', song='World Keeps Turning'),\n",
       " Row(userId='15', firstname='Lily', page='NextSong', level='paid', song='Greed'),\n",
       " Row(userId='15', firstname='Lily', page='NextSong', level='paid', song='Swing Javanaise'),\n",
       " Row(userId='15', firstname='Lily', page='NextSong', level='paid', song='Ed Ero Contentissimo'),\n",
       " Row(userId='15', firstname='Lily', page='NextSong', level='paid', song='Ship Inside A Bottle'),\n",
       " Row(userId='15', firstname='Lily', page='NextSong', level='paid', song='The Cut'),\n",
       " Row(userId='15', firstname='Lily', page='NextSong', level='paid', song='Ride A White Swan'),\n",
       " Row(userId='15', firstname='Lily', page='NextSong', level='paid', song='Mirando a Las Muchachas'),\n",
       " Row(userId='15', firstname='Lily', page='NextSong', level='paid', song='Clouds (Of Color Bright Album Version)'),\n",
       " Row(userId='15', firstname='Lily', page='NextSong', level='paid', song='Riberonzinha'),\n",
       " Row(userId='15', firstname='Lily', page='NextSong', level='paid', song='Big Blue Note'),\n",
       " Row(userId='15', firstname='Lily', page='NextSong', level='paid', song='Naked'),\n",
       " Row(userId='15', firstname='Lily', page='NextSong', level='paid', song='In All This Revelation'),\n",
       " Row(userId='15', firstname='Lily', page='NextSong', level='paid', song='Bottom of a Bottle (Explicit Album Version)'),\n",
       " Row(userId='15', firstname='Lily', page='NextSong', level='paid', song='Wake Up Alone'),\n",
       " Row(userId='15', firstname='Lily', page='NextSong', level='paid', song='Sisterfucker (part Ii)'),\n",
       " Row(userId='15', firstname='Lily', page='NextSong', level='paid', song='Dekh Le'),\n",
       " Row(userId='15', firstname='Lily', page='NextSong', level='paid', song='Little Girl Lies (2001 Digital Remaster)'),\n",
       " Row(userId='15', firstname='Lily', page='Home', level='paid', song=None),\n",
       " Row(userId='15', firstname='Lily', page='NextSong', level='paid', song='Got Me'),\n",
       " Row(userId='15', firstname='Lily', page='NextSong', level='paid', song='The Lengths'),\n",
       " Row(userId='15', firstname='Lily', page='NextSong', level='paid', song='Eye Of The Tiger'),\n",
       " Row(userId='15', firstname='Lily', page='NextSong', level='paid', song='I Miss You'),\n",
       " Row(userId='15', firstname='Lily', page='Downgrade', level='paid', song=None),\n",
       " Row(userId='15', firstname='Lily', page='NextSong', level='paid', song='Little April Shower'),\n",
       " Row(userId='15', firstname='Lily', page='NextSong', level='paid', song='Stillness Is The Move'),\n",
       " Row(userId='15', firstname='Lily', page='NextSong', level='paid', song='From Left To Right'),\n",
       " Row(userId='15', firstname='Lily', page='NextSong', level='paid', song='Shelter From The Rain'),\n",
       " Row(userId='15', firstname='Lily', page='NextSong', level='paid', song='North Sea Storm (Live)'),\n",
       " Row(userId='15', firstname='Lily', page='NextSong', level='paid', song='BedRock (Radio Edit) (feat.Lloyd)'),\n",
       " Row(userId='15', firstname='Lily', page='NextSong', level='paid', song='Anti-Everything'),\n",
       " Row(userId='15', firstname='Lily', page='NextSong', level='paid', song='Airplanes'),\n",
       " Row(userId='15', firstname='Lily', page='NextSong', level='paid', song='Awkward Game'),\n",
       " Row(userId='15', firstname='Lily', page='NextSong', level='paid', song='No Hay Nadie Como TÃ\\x83Âº'),\n",
       " Row(userId='15', firstname='Lily', page='NextSong', level='paid', song='Fixin to Thrill'),\n",
       " Row(userId='15', firstname='Lily', page='NextSong', level='paid', song='Waiting for a Train [Single Mix]'),\n",
       " Row(userId='15', firstname='Lily', page='NextSong', level='paid', song='Miss Murder'),\n",
       " Row(userId='15', firstname='Lily', page='NextSong', level='paid', song='16 Candles'),\n",
       " Row(userId='15', firstname='Lily', page='NextSong', level='paid', song='Come As You Are'),\n",
       " Row(userId='15', firstname='Lily', page='NextSong', level='paid', song='Honest Expression'),\n",
       " Row(userId='15', firstname='Lily', page='NextSong', level='paid', song='By Darkness Enslaved'),\n",
       " Row(userId='15', firstname='Lily', page='NextSong', level='paid', song='I Am The Walrus'),\n",
       " Row(userId='15', firstname='Lily', page='NextSong', level='paid', song='Holy Roller Novocaine'),\n",
       " Row(userId='15', firstname='Lily', page='NextSong', level='paid', song='ReprÃ\\x83Â©sente'),\n",
       " Row(userId='15', firstname='Lily', page='NextSong', level='paid', song='Whiskey'),\n",
       " Row(userId='15', firstname='Lily', page='NextSong', level='paid', song=\"Ain't Misbehavin\"),\n",
       " Row(userId='15', firstname='Lily', page='NextSong', level='paid', song='Summerland'),\n",
       " Row(userId='15', firstname='Lily', page='NextSong', level='paid', song='Move Along'),\n",
       " Row(userId='15', firstname='Lily', page='NextSong', level='paid', song='Everything Is Alright (Album Version)'),\n",
       " Row(userId='15', firstname='Lily', page='NextSong', level='paid', song='Something To Believe In'),\n",
       " Row(userId='15', firstname='Lily', page='NextSong', level='paid', song='Kingdom'),\n",
       " Row(userId='15', firstname='Lily', page='NextSong', level='paid', song='Mama Said'),\n",
       " Row(userId='15', firstname='Lily', page='NextSong', level='paid', song=\"Sylvia's Mother\"),\n",
       " Row(userId='15', firstname='Lily', page='NextSong', level='paid', song='Diferente'),\n",
       " Row(userId='15', firstname='Lily', page='NextSong', level='paid', song='Play On'),\n",
       " Row(userId='15', firstname='Lily', page='NextSong', level='paid', song='I.D.'),\n",
       " Row(userId='15', firstname='Lily', page='NextSong', level='paid', song='Drop The World'),\n",
       " Row(userId='15', firstname='Lily', page='NextSong', level='paid', song='For Your Pleasure'),\n",
       " Row(userId='15', firstname='Lily', page='NextSong', level='paid', song='De SÃ\\x83Â£o Paulo Ã\\x83Â\\x80 BelÃ\\x83Â©m'),\n",
       " Row(userId='15', firstname='Lily', page='NextSong', level='paid', song='Outfit'),\n",
       " Row(userId='15', firstname='Lily', page='NextSong', level='paid', song='Smoking Cigarettes (LP Version)'),\n",
       " Row(userId='15', firstname='Lily', page='NextSong', level='paid', song=\"Steven's Last Night In Town\"),\n",
       " Row(userId='15', firstname='Lily', page='NextSong', level='paid', song='Lies'),\n",
       " Row(userId='15', firstname='Lily', page='NextSong', level='paid', song='Make Love To Your Mind'),\n",
       " Row(userId='15', firstname='Lily', page='NextSong', level='paid', song='How Am I Supposed To Live Without You'),\n",
       " Row(userId='15', firstname='Lily', page='NextSong', level='paid', song='The Seventh Stranger'),\n",
       " Row(userId='15', firstname='Lily', page='NextSong', level='paid', song='Meddle'),\n",
       " Row(userId='15', firstname='Lily', page='NextSong', level='paid', song='Glory Days To Come'),\n",
       " Row(userId='15', firstname='Lily', page='NextSong', level='paid', song='Undo'),\n",
       " Row(userId='15', firstname='Lily', page='NextSong', level='paid', song='Hey Mama'),\n",
       " Row(userId='15', firstname='Lily', page='NextSong', level='paid', song='Find You Waiting'),\n",
       " Row(userId='15', firstname='Lily', page='NextSong', level='paid', song='1009'),\n",
       " Row(userId='15', firstname='Lily', page='NextSong', level='paid', song='Rabbit Heart (Raise It Up)'),\n",
       " Row(userId='15', firstname='Lily', page='NextSong', level='paid', song='Milord'),\n",
       " Row(userId='15', firstname='Lily', page='NextSong', level='paid', song='Losing Ground'),\n",
       " Row(userId='15', firstname='Lily', page='NextSong', level='paid', song='I Need You Now (Build A Bridge Version)'),\n",
       " Row(userId='15', firstname='Lily', page='NextSong', level='paid', song='Creil City'),\n",
       " Row(userId='15', firstname='Lily', page='NextSong', level='paid', song='Betterman (full-length/album version)'),\n",
       " Row(userId='15', firstname='Lily', page='NextSong', level='paid', song='Fader'),\n",
       " Row(userId='15', firstname='Lily', page='NextSong', level='paid', song='Finger Twist & Split (Album Version)'),\n",
       " Row(userId='15', firstname='Lily', page='NextSong', level='paid', song='Simple'),\n",
       " Row(userId='15', firstname='Lily', page='NextSong', level='paid', song='No Seas Cruel (vivo)'),\n",
       " Row(userId='15', firstname='Lily', page='NextSong', level='paid', song='Into The Sun'),\n",
       " Row(userId='15', firstname='Lily', page='NextSong', level='paid', song='Acercate Mas (2000 Digital Remaster)'),\n",
       " Row(userId='15', firstname='Lily', page='NextSong', level='paid', song=\"In the Yard of the Father's Son\"),\n",
       " Row(userId='15', firstname='Lily', page='NextSong', level='paid', song='Slave To Love (1999 Digital Remaster)'),\n",
       " Row(userId='15', firstname='Lily', page='NextSong', level='paid', song='Wanna-be Angel (Album Version)'),\n",
       " Row(userId='15', firstname='Lily', page='NextSong', level='paid', song='Victoria (LP Version)'),\n",
       " Row(userId='15', firstname='Lily', page='NextSong', level='paid', song='Catch You Baby (Steve Pitron & Max Sanna Radio Edit)'),\n",
       " Row(userId='15', firstname='Lily', page='NextSong', level='paid', song='Dog Days Are Over (Radio Edit)'),\n",
       " Row(userId='15', firstname='Lily', page='NextSong', level='paid', song='Flex'),\n",
       " Row(userId='15', firstname='Lily', page='NextSong', level='paid', song='Punch Drunk Grinning Soul'),\n",
       " Row(userId='15', firstname='Lily', page='NextSong', level='paid', song='Spin Spin Sugar'),\n",
       " Row(userId='15', firstname='Lily', page='NextSong', level='paid', song='Aurora'),\n",
       " Row(userId='15', firstname='Lily', page='NextSong', level='paid', song='Wasteland'),\n",
       " Row(userId='15', firstname='Lily', page='NextSong', level='paid', song='No Siento Penas'),\n",
       " Row(userId='15', firstname='Lily', page='NextSong', level='paid', song='Sleepyhead'),\n",
       " Row(userId='15', firstname='Lily', page='NextSong', level='paid', song='Secrets'),\n",
       " Row(userId='15', firstname='Lily', page='NextSong', level='paid', song='Heiterkeit'),\n",
       " Row(userId='15', firstname='Lily', page='Downgrade', level='paid', song=None),\n",
       " Row(userId='15', firstname='Lily', page='NextSong', level='paid', song='La Vie En Rose'),\n",
       " Row(userId='15', firstname='Lily', page='NextSong', level='paid', song='Think About Last Night'),\n",
       " Row(userId='15', firstname='Lily', page='NextSong', level='paid', song='Love Buzz'),\n",
       " Row(userId='15', firstname='Lily', page='NextSong', level='paid', song='Only In Dreams'),\n",
       " Row(userId='15', firstname='Lily', page='NextSong', level='paid', song='She Is My Sin'),\n",
       " Row(userId='15', firstname='Lily', page='NextSong', level='paid', song='Teach Me How To Dougie'),\n",
       " Row(userId='15', firstname='Lily', page='NextSong', level='paid', song='Silvia'),\n",
       " Row(userId='15', firstname='Lily', page='NextSong', level='paid', song='I Kissed A Girl'),\n",
       " Row(userId='15', firstname='Lily', page='NextSong', level='paid', song='Peep Show'),\n",
       " Row(userId='15', firstname='Lily', page='NextSong', level='paid', song='Not Fair'),\n",
       " Row(userId='15', firstname='Lily', page='NextSong', level='paid', song='Lump'),\n",
       " Row(userId='15', firstname='Lily', page='NextSong', level='paid', song='Right Now (Produced by Ayatollah)'),\n",
       " Row(userId='15', firstname='Lily', page='NextSong', level='paid', song='Take A Bow'),\n",
       " Row(userId='15', firstname='Lily', page='NextSong', level='paid', song='Back To The African Garden'),\n",
       " Row(userId='15', firstname='Lily', page='NextSong', level='paid', song='My Humps'),\n",
       " Row(userId='15', firstname='Lily', page='NextSong', level='paid', song=\"Show Me What I'm Looking For (Album Version)\"),\n",
       " Row(userId='15', firstname='Lily', page='NextSong', level='paid', song='Dust in The Wind'),\n",
       " Row(userId='15', firstname='Lily', page='NextSong', level='paid', song='Xehasmeni Melodia'),\n",
       " Row(userId='15', firstname='Lily', page='NextSong', level='paid', song=\"Lakini's Juice\"),\n",
       " Row(userId='15', firstname='Lily', page='NextSong', level='paid', song='Nuff Fire'),\n",
       " Row(userId='15', firstname='Lily', page='NextSong', level='paid', song='Mean Mean Son Of A Gun'),\n",
       " Row(userId='15', firstname='Lily', page='NextSong', level='paid', song='Ironmasters'),\n",
       " Row(userId='15', firstname='Lily', page='NextSong', level='paid', song='The Absence Of God (Album Version)'),\n",
       " Row(userId='15', firstname='Lily', page='NextSong', level='paid', song='Lost My Mind'),\n",
       " Row(userId='15', firstname='Lily', page='NextSong', level='paid', song='Mamma'),\n",
       " Row(userId='15', firstname='Lily', page='NextSong', level='paid', song='I Will Follow You into the Dark (Album Version)'),\n",
       " Row(userId='15', firstname='Lily', page='NextSong', level='paid', song=\"You're The One\"),\n",
       " Row(userId='15', firstname='Lily', page='NextSong', level='paid', song='Cartel Gathering'),\n",
       " Row(userId='15', firstname='Lily', page='NextSong', level='paid', song='Si tu no estas'),\n",
       " Row(userId='15', firstname='Lily', page='NextSong', level='paid', song='The Ballad of Michael Valentine'),\n",
       " Row(userId='15', firstname='Lily', page='NextSong', level='paid', song='SinceritÃ\\x83Â© Et Jalousie'),\n",
       " Row(userId='15', firstname='Lily', page='NextSong', level='paid', song='China Roses'),\n",
       " Row(userId='15', firstname='Lily', page='NextSong', level='paid', song='Jazz'),\n",
       " Row(userId='15', firstname='Lily', page='Logout', level='paid', song=None)]"
      ]
     },
     "execution_count": 67,
     "metadata": {},
     "output_type": "execute_result"
    }
   ],
   "source": [
    "user_log.select([\"userId\", \"firstname\", \"page\", \"level\", \"song\"]).where(user_log.userId == \"15\").collect()"
   ]
  },
  {
   "cell_type": "code",
   "execution_count": 68,
   "metadata": {},
   "outputs": [],
   "source": [
    "flag_downgrade_event = udf(lambda x: 1 if x == \"Submit Downgrade\" else 0, IntegerType())"
   ]
  },
  {
   "cell_type": "code",
   "execution_count": 69,
   "metadata": {},
   "outputs": [],
   "source": [
    "user_log_valid = user_log_valid.withColumn(\"downgraded\", flag_downgrade_event(\"page\"))"
   ]
  },
  {
   "cell_type": "code",
   "execution_count": 70,
   "metadata": {},
   "outputs": [
    {
     "data": {
      "text/plain": [
       "Row(artist='Harmonia', auth='Logged In', firstName='Ryan', gender='M', itemInSession=0, lastName='Smith', length=655.77751, level='free', location='San Jose-Sunnyvale-Santa Clara, CA', method='PUT', page='NextSong', registration=1541016707796.0, sessionId=583, song='Sehr kosmisch', status=200, ts=1542241826796, userAgent='\"Mozilla/5.0 (X11; Linux x86_64) AppleWebKit/537.36 (KHTML, like Gecko) Ubuntu Chromium/36.0.1985.125 Chrome/36.0.1985.125 Safari/537.36\"', userId='26', hour='18', downgraded=0)"
      ]
     },
     "execution_count": 70,
     "metadata": {},
     "output_type": "execute_result"
    }
   ],
   "source": [
    "user_log_valid.head()"
   ]
  },
  {
   "cell_type": "code",
   "execution_count": 71,
   "metadata": {},
   "outputs": [],
   "source": [
    "from pyspark.sql import Window"
   ]
  },
  {
   "cell_type": "code",
   "execution_count": 72,
   "metadata": {},
   "outputs": [],
   "source": [
    "windowval = Window.partitionBy(\"userId\").orderBy(desc(\"ts\")).rangeBetween(Window.unboundedPreceding, 0)"
   ]
  },
  {
   "cell_type": "code",
   "execution_count": 73,
   "metadata": {},
   "outputs": [],
   "source": [
    "user_log_valid = user_log_valid.withColumn(\"phase\", Fsum(\"downgraded\").over(windowval))"
   ]
  },
  {
   "cell_type": "code",
   "execution_count": 74,
   "metadata": {},
   "outputs": [
    {
     "data": {
      "text/plain": [
       "[Row(userId='15', firstname='Lily', ts=1541149281796, page='NextSong', level='paid', phase=1),\n",
       " Row(userId='15', firstname='Lily', ts=1541149456796, page='NextSong', level='paid', phase=1),\n",
       " Row(userId='15', firstname='Lily', ts=1541149698796, page='NextSong', level='paid', phase=1),\n",
       " Row(userId='15', firstname='Lily', ts=1541149952796, page='NextSong', level='paid', phase=1),\n",
       " Row(userId='15', firstname='Lily', ts=1541150176796, page='NextSong', level='paid', phase=1),\n",
       " Row(userId='15', firstname='Lily', ts=1541150355796, page='NextSong', level='paid', phase=1),\n",
       " Row(userId='15', firstname='Lily', ts=1541150563796, page='NextSong', level='paid', phase=1),\n",
       " Row(userId='15', firstname='Lily', ts=1541150809796, page='NextSong', level='paid', phase=1),\n",
       " Row(userId='15', firstname='Lily', ts=1541151060796, page='NextSong', level='paid', phase=1),\n",
       " Row(userId='15', firstname='Lily', ts=1541151325796, page='NextSong', level='paid', phase=1),\n",
       " Row(userId='15', firstname='Lily', ts=1541151611796, page='NextSong', level='paid', phase=1),\n",
       " Row(userId='15', firstname='Lily', ts=1541151743796, page='NextSong', level='paid', phase=1),\n",
       " Row(userId='15', firstname='Lily', ts=1541152021796, page='NextSong', level='paid', phase=1),\n",
       " Row(userId='15', firstname='Lily', ts=1541152223796, page='NextSong', level='paid', phase=1),\n",
       " Row(userId='15', firstname='Lily', ts=1541152499796, page='NextSong', level='paid', phase=1),\n",
       " Row(userId='15', firstname='Lily', ts=1541152676796, page='NextSong', level='paid', phase=1),\n",
       " Row(userId='15', firstname='Lily', ts=1541152940796, page='NextSong', level='paid', phase=1),\n",
       " Row(userId='15', firstname='Lily', ts=1541153045796, page='NextSong', level='paid', phase=1),\n",
       " Row(userId='15', firstname='Lily', ts=1541153263796, page='NextSong', level='paid', phase=1),\n",
       " Row(userId='15', firstname='Lily', ts=1541153484796, page='NextSong', level='paid', phase=1),\n",
       " Row(userId='15', firstname='Lily', ts=1541153639796, page='NextSong', level='paid', phase=1),\n",
       " Row(userId='15', firstname='Lily', ts=1541153958796, page='NextSong', level='paid', phase=1),\n",
       " Row(userId='15', firstname='Lily', ts=1541153985796, page='Home', level='paid', phase=1),\n",
       " Row(userId='15', firstname='Lily', ts=1541154085796, page='NextSong', level='paid', phase=1),\n",
       " Row(userId='15', firstname='Lily', ts=1541154252796, page='NextSong', level='paid', phase=1),\n",
       " Row(userId='15', firstname='Lily', ts=1541154546796, page='NextSong', level='paid', phase=1),\n",
       " Row(userId='15', firstname='Lily', ts=1541154791796, page='NextSong', level='paid', phase=1),\n",
       " Row(userId='15', firstname='Lily', ts=1541154854796, page='Downgrade', level='paid', phase=1),\n",
       " Row(userId='15', firstname='Lily', ts=1541155108796, page='NextSong', level='paid', phase=1),\n",
       " Row(userId='15', firstname='Lily', ts=1541155342796, page='NextSong', level='paid', phase=1),\n",
       " Row(userId='15', firstname='Lily', ts=1541155661796, page='NextSong', level='paid', phase=1),\n",
       " Row(userId='15', firstname='Lily', ts=1541155991796, page='NextSong', level='paid', phase=1),\n",
       " Row(userId='15', firstname='Lily', ts=1541156359796, page='NextSong', level='paid', phase=1),\n",
       " Row(userId='15', firstname='Lily', ts=1541156671796, page='NextSong', level='paid', phase=1),\n",
       " Row(userId='15', firstname='Lily', ts=1541156867796, page='NextSong', level='paid', phase=1),\n",
       " Row(userId='15', firstname='Lily', ts=1541157193796, page='NextSong', level='paid', phase=1),\n",
       " Row(userId='15', firstname='Lily', ts=1541157430796, page='NextSong', level='paid', phase=1),\n",
       " Row(userId='15', firstname='Lily', ts=1541157637796, page='NextSong', level='paid', phase=1),\n",
       " Row(userId='15', firstname='Lily', ts=1541157930796, page='NextSong', level='paid', phase=1),\n",
       " Row(userId='15', firstname='Lily', ts=1541158176796, page='NextSong', level='paid', phase=1),\n",
       " Row(userId='15', firstname='Lily', ts=1541158400796, page='NextSong', level='paid', phase=1),\n",
       " Row(userId='15', firstname='Lily', ts=1541158598796, page='NextSong', level='paid', phase=1),\n",
       " Row(userId='15', firstname='Lily', ts=1541158780796, page='NextSong', level='paid', phase=1),\n",
       " Row(userId='15', firstname='Lily', ts=1541158999796, page='NextSong', level='paid', phase=1),\n",
       " Row(userId='15', firstname='Lily', ts=1541159299796, page='NextSong', level='paid', phase=1),\n",
       " Row(userId='15', firstname='Lily', ts=1541159518796, page='NextSong', level='paid', phase=1),\n",
       " Row(userId='15', firstname='Lily', ts=1541159803796, page='NextSong', level='paid', phase=1),\n",
       " Row(userId='15', firstname='Lily', ts=1541160045796, page='NextSong', level='paid', phase=1),\n",
       " Row(userId='15', firstname='Lily', ts=1541160297796, page='NextSong', level='paid', phase=1),\n",
       " Row(userId='15', firstname='Lily', ts=1541160592796, page='NextSong', level='paid', phase=1),\n",
       " Row(userId='15', firstname='Lily', ts=1541160714796, page='NextSong', level='paid', phase=1),\n",
       " Row(userId='15', firstname='Lily', ts=1541160936796, page='NextSong', level='paid', phase=1),\n",
       " Row(userId='15', firstname='Lily', ts=1541161175796, page='NextSong', level='paid', phase=1),\n",
       " Row(userId='15', firstname='Lily', ts=1541161381796, page='NextSong', level='paid', phase=1),\n",
       " Row(userId='15', firstname='Lily', ts=1541161550796, page='NextSong', level='paid', phase=1),\n",
       " Row(userId='15', firstname='Lily', ts=1541161822796, page='NextSong', level='paid', phase=1),\n",
       " Row(userId='15', firstname='Lily', ts=1541162141796, page='NextSong', level='paid', phase=1),\n",
       " Row(userId='15', firstname='Lily', ts=1541162370796, page='NextSong', level='paid', phase=1),\n",
       " Row(userId='15', firstname='Lily', ts=1541162691796, page='NextSong', level='paid', phase=1),\n",
       " Row(userId='15', firstname='Lily', ts=1541162912796, page='NextSong', level='paid', phase=1),\n",
       " Row(userId='15', firstname='Lily', ts=1541163225796, page='NextSong', level='paid', phase=1),\n",
       " Row(userId='15', firstname='Lily', ts=1541163454796, page='NextSong', level='paid', phase=1),\n",
       " Row(userId='15', firstname='Lily', ts=1541163717796, page='NextSong', level='paid', phase=1),\n",
       " Row(userId='15', firstname='Lily', ts=1541163997796, page='NextSong', level='paid', phase=1),\n",
       " Row(userId='15', firstname='Lily', ts=1541164243796, page='NextSong', level='paid', phase=1),\n",
       " Row(userId='15', firstname='Lily', ts=1541164499796, page='NextSong', level='paid', phase=1),\n",
       " Row(userId='15', firstname='Lily', ts=1541164706796, page='NextSong', level='paid', phase=1),\n",
       " Row(userId='15', firstname='Lily', ts=1541164945796, page='NextSong', level='paid', phase=1),\n",
       " Row(userId='15', firstname='Lily', ts=1541165328796, page='NextSong', level='paid', phase=1),\n",
       " Row(userId='15', firstname='Lily', ts=1541165583796, page='NextSong', level='paid', phase=1),\n",
       " Row(userId='15', firstname='Lily', ts=1541165904796, page='NextSong', level='paid', phase=1),\n",
       " Row(userId='15', firstname='Lily', ts=1541166099796, page='NextSong', level='paid', phase=1),\n",
       " Row(userId='15', firstname='Lily', ts=1541166273796, page='NextSong', level='paid', phase=1),\n",
       " Row(userId='15', firstname='Lily', ts=1541166621796, page='NextSong', level='paid', phase=1),\n",
       " Row(userId='15', firstname='Lily', ts=1541166847796, page='NextSong', level='paid', phase=1),\n",
       " Row(userId='15', firstname='Lily', ts=1541167096796, page='NextSong', level='paid', phase=1),\n",
       " Row(userId='15', firstname='Lily', ts=1541264282796, page='NextSong', level='paid', phase=1),\n",
       " Row(userId='15', firstname='Lily', ts=1541264572796, page='NextSong', level='paid', phase=1),\n",
       " Row(userId='15', firstname='Lily', ts=1541264739796, page='NextSong', level='paid', phase=1),\n",
       " Row(userId='15', firstname='Lily', ts=1541264992796, page='NextSong', level='paid', phase=1),\n",
       " Row(userId='15', firstname='Lily', ts=1541265329796, page='NextSong', level='paid', phase=1),\n",
       " Row(userId='15', firstname='Lily', ts=1541265594796, page='NextSong', level='paid', phase=1),\n",
       " Row(userId='15', firstname='Lily', ts=1541265817796, page='NextSong', level='paid', phase=1),\n",
       " Row(userId='15', firstname='Lily', ts=1541266009796, page='NextSong', level='paid', phase=1),\n",
       " Row(userId='15', firstname='Lily', ts=1541266210796, page='NextSong', level='paid', phase=1),\n",
       " Row(userId='15', firstname='Lily', ts=1541266482796, page='NextSong', level='paid', phase=1),\n",
       " Row(userId='15', firstname='Lily', ts=1541266753796, page='NextSong', level='paid', phase=1),\n",
       " Row(userId='15', firstname='Lily', ts=1541266955796, page='NextSong', level='paid', phase=1),\n",
       " Row(userId='15', firstname='Lily', ts=1541267206796, page='NextSong', level='paid', phase=1),\n",
       " Row(userId='15', firstname='Lily', ts=1541267244796, page='NextSong', level='paid', phase=1),\n",
       " Row(userId='15', firstname='Lily', ts=1541267509796, page='NextSong', level='paid', phase=1),\n",
       " Row(userId='15', firstname='Lily', ts=1541267710796, page='NextSong', level='paid', phase=1),\n",
       " Row(userId='15', firstname='Lily', ts=1541267941796, page='NextSong', level='paid', phase=1),\n",
       " Row(userId='15', firstname='Lily', ts=1541268122796, page='NextSong', level='paid', phase=1),\n",
       " Row(userId='15', firstname='Lily', ts=1541268341796, page='NextSong', level='paid', phase=1),\n",
       " Row(userId='15', firstname='Lily', ts=1541268571796, page='NextSong', level='paid', phase=1),\n",
       " Row(userId='15', firstname='Lily', ts=1541268831796, page='NextSong', level='paid', phase=1),\n",
       " Row(userId='15', firstname='Lily', ts=1541269091796, page='NextSong', level='paid', phase=1),\n",
       " Row(userId='15', firstname='Lily', ts=1541269281796, page='NextSong', level='paid', phase=1),\n",
       " Row(userId='15', firstname='Lily', ts=1541269510796, page='NextSong', level='paid', phase=1),\n",
       " Row(userId='15', firstname='Lily', ts=1541269743796, page='NextSong', level='paid', phase=1),\n",
       " Row(userId='15', firstname='Lily', ts=1541269917796, page='NextSong', level='paid', phase=1),\n",
       " Row(userId='15', firstname='Lily', ts=1541270141796, page='NextSong', level='paid', phase=1),\n",
       " Row(userId='15', firstname='Lily', ts=1541270199796, page='Downgrade', level='paid', phase=1),\n",
       " Row(userId='15', firstname='Lily', ts=1541596856796, page='Home', level='paid', phase=1),\n",
       " Row(userId='15', firstname='Lily', ts=1541596931796, page='NextSong', level='paid', phase=1),\n",
       " Row(userId='15', firstname='Lily', ts=1541597170796, page='NextSong', level='paid', phase=1),\n",
       " Row(userId='15', firstname='Lily', ts=1541597548796, page='NextSong', level='paid', phase=1),\n",
       " Row(userId='15', firstname='Lily', ts=1541597743796, page='NextSong', level='paid', phase=1),\n",
       " Row(userId='15', firstname='Lily', ts=1541597979796, page='NextSong', level='paid', phase=1),\n",
       " Row(userId='15', firstname='Lily', ts=1541598311796, page='NextSong', level='paid', phase=1),\n",
       " Row(userId='15', firstname='Lily', ts=1541598437796, page='NextSong', level='paid', phase=1),\n",
       " Row(userId='15', firstname='Lily', ts=1541598601796, page='NextSong', level='paid', phase=1),\n",
       " Row(userId='15', firstname='Lily', ts=1541598789796, page='NextSong', level='paid', phase=1),\n",
       " Row(userId='15', firstname='Lily', ts=1541599001796, page='NextSong', level='paid', phase=1),\n",
       " Row(userId='15', firstname='Lily', ts=1541599262796, page='NextSong', level='paid', phase=1),\n",
       " Row(userId='15', firstname='Lily', ts=1541599509796, page='NextSong', level='paid', phase=1),\n",
       " Row(userId='15', firstname='Lily', ts=1541599830796, page='NextSong', level='paid', phase=1),\n",
       " Row(userId='15', firstname='Lily', ts=1541600199796, page='NextSong', level='paid', phase=1),\n",
       " Row(userId='15', firstname='Lily', ts=1541600446796, page='NextSong', level='paid', phase=1),\n",
       " Row(userId='15', firstname='Lily', ts=1541600775796, page='NextSong', level='paid', phase=1),\n",
       " Row(userId='15', firstname='Lily', ts=1541600977796, page='NextSong', level='paid', phase=1),\n",
       " Row(userId='15', firstname='Lily', ts=1541601277796, page='NextSong', level='paid', phase=1),\n",
       " Row(userId='15', firstname='Lily', ts=1541601546796, page='NextSong', level='paid', phase=1),\n",
       " Row(userId='15', firstname='Lily', ts=1541601764796, page='NextSong', level='paid', phase=1),\n",
       " Row(userId='15', firstname='Lily', ts=1541601981796, page='NextSong', level='paid', phase=1),\n",
       " Row(userId='15', firstname='Lily', ts=1541602217796, page='NextSong', level='paid', phase=1),\n",
       " Row(userId='15', firstname='Lily', ts=1541602425796, page='NextSong', level='paid', phase=1),\n",
       " Row(userId='15', firstname='Lily', ts=1541602627796, page='NextSong', level='paid', phase=1),\n",
       " Row(userId='15', firstname='Lily', ts=1541602828796, page='NextSong', level='paid', phase=1),\n",
       " Row(userId='15', firstname='Lily', ts=1541605018796, page='NextSong', level='paid', phase=1),\n",
       " Row(userId='15', firstname='Lily', ts=1541605270796, page='NextSong', level='paid', phase=1),\n",
       " Row(userId='15', firstname='Lily', ts=1541605459796, page='NextSong', level='paid', phase=1),\n",
       " Row(userId='15', firstname='Lily', ts=1541605693796, page='NextSong', level='paid', phase=1),\n",
       " Row(userId='15', firstname='Lily', ts=1541605934796, page='NextSong', level='paid', phase=1),\n",
       " Row(userId='15', firstname='Lily', ts=1541606208796, page='NextSong', level='paid', phase=1),\n",
       " Row(userId='15', firstname='Lily', ts=1541606461796, page='NextSong', level='paid', phase=1),\n",
       " Row(userId='15', firstname='Lily', ts=1541606628796, page='Home', level='paid', phase=1),\n",
       " Row(userId='15', firstname='Lily', ts=1541606694796, page='NextSong', level='paid', phase=1),\n",
       " Row(userId='15', firstname='Lily', ts=1541606914796, page='NextSong', level='paid', phase=1),\n",
       " Row(userId='15', firstname='Lily', ts=1541607234796, page='NextSong', level='paid', phase=1),\n",
       " Row(userId='15', firstname='Lily', ts=1541607557796, page='NextSong', level='paid', phase=1),\n",
       " Row(userId='15', firstname='Lily', ts=1541607813796, page='NextSong', level='paid', phase=1),\n",
       " Row(userId='15', firstname='Lily', ts=1541608076796, page='NextSong', level='paid', phase=1),\n",
       " Row(userId='15', firstname='Lily', ts=1541608326796, page='NextSong', level='paid', phase=1),\n",
       " Row(userId='15', firstname='Lily', ts=1541608582796, page='NextSong', level='paid', phase=1),\n",
       " Row(userId='15', firstname='Lily', ts=1541608713796, page='NextSong', level='paid', phase=1),\n",
       " Row(userId='15', firstname='Lily', ts=1541608923796, page='NextSong', level='paid', phase=1),\n",
       " Row(userId='15', firstname='Lily', ts=1541609134796, page='NextSong', level='paid', phase=1),\n",
       " Row(userId='15', firstname='Lily', ts=1541609398796, page='NextSong', level='paid', phase=1),\n",
       " Row(userId='15', firstname='Lily', ts=1541609604796, page='NextSong', level='paid', phase=1),\n",
       " Row(userId='15', firstname='Lily', ts=1541609825796, page='NextSong', level='paid', phase=1),\n",
       " Row(userId='15', firstname='Lily', ts=1541610173796, page='NextSong', level='paid', phase=1),\n",
       " Row(userId='15', firstname='Lily', ts=1541610316796, page='NextSong', level='paid', phase=1),\n",
       " Row(userId='15', firstname='Lily', ts=1541610337796, page='NextSong', level='paid', phase=1),\n",
       " Row(userId='15', firstname='Lily', ts=1541610639796, page='NextSong', level='paid', phase=1),\n",
       " Row(userId='15', firstname='Lily', ts=1541610648796, page='Home', level='paid', phase=1),\n",
       " Row(userId='15', firstname='Lily', ts=1541610801796, page='NextSong', level='paid', phase=1),\n",
       " Row(userId='15', firstname='Lily', ts=1541611267796, page='NextSong', level='paid', phase=1),\n",
       " Row(userId='15', firstname='Lily', ts=1541611447796, page='NextSong', level='paid', phase=1),\n",
       " Row(userId='15', firstname='Lily', ts=1541611632796, page='NextSong', level='paid', phase=1),\n",
       " Row(userId='15', firstname='Lily', ts=1541612065796, page='NextSong', level='paid', phase=1),\n",
       " Row(userId='15', firstname='Lily', ts=1541612239796, page='NextSong', level='paid', phase=1),\n",
       " Row(userId='15', firstname='Lily', ts=1541612464796, page='NextSong', level='paid', phase=1),\n",
       " Row(userId='15', firstname='Lily', ts=1541612639796, page='NextSong', level='paid', phase=1),\n",
       " Row(userId='15', firstname='Lily', ts=1541612956796, page='NextSong', level='paid', phase=1),\n",
       " Row(userId='15', firstname='Lily', ts=1541613200796, page='NextSong', level='paid', phase=1),\n",
       " Row(userId='15', firstname='Lily', ts=1541613429796, page='NextSong', level='paid', phase=1),\n",
       " Row(userId='15', firstname='Lily', ts=1541613652796, page='NextSong', level='paid', phase=1),\n",
       " Row(userId='15', firstname='Lily', ts=1541614012796, page='NextSong', level='paid', phase=1),\n",
       " Row(userId='15', firstname='Lily', ts=1541614271796, page='NextSong', level='paid', phase=1),\n",
       " Row(userId='15', firstname='Lily', ts=1541614515796, page='NextSong', level='paid', phase=1),\n",
       " Row(userId='15', firstname='Lily', ts=1541614866796, page='NextSong', level='paid', phase=1),\n",
       " Row(userId='15', firstname='Lily', ts=1541615125796, page='NextSong', level='paid', phase=1),\n",
       " Row(userId='15', firstname='Lily', ts=1541615374796, page='NextSong', level='paid', phase=1),\n",
       " Row(userId='15', firstname='Lily', ts=1541615672796, page='NextSong', level='paid', phase=1),\n",
       " Row(userId='15', firstname='Lily', ts=1541615825796, page='NextSong', level='paid', phase=1),\n",
       " Row(userId='15', firstname='Lily', ts=1541615996796, page='NextSong', level='paid', phase=1),\n",
       " Row(userId='15', firstname='Lily', ts=1541616166796, page='NextSong', level='paid', phase=1),\n",
       " Row(userId='15', firstname='Lily', ts=1541616377796, page='NextSong', level='paid', phase=1),\n",
       " Row(userId='15', firstname='Lily', ts=1541616566796, page='NextSong', level='paid', phase=1),\n",
       " Row(userId='15', firstname='Lily', ts=1541616830796, page='NextSong', level='paid', phase=1),\n",
       " Row(userId='15', firstname='Lily', ts=1541617079796, page='NextSong', level='paid', phase=1),\n",
       " Row(userId='15', firstname='Lily', ts=1541618479796, page='NextSong', level='paid', phase=1),\n",
       " Row(userId='15', firstname='Lily', ts=1541618725796, page='NextSong', level='paid', phase=1),\n",
       " Row(userId='15', firstname='Lily', ts=1541618922796, page='NextSong', level='paid', phase=1),\n",
       " Row(userId='15', firstname='Lily', ts=1541619152796, page='NextSong', level='paid', phase=1),\n",
       " Row(userId='15', firstname='Lily', ts=1541619405796, page='NextSong', level='paid', phase=1),\n",
       " Row(userId='15', firstname='Lily', ts=1541619625796, page='NextSong', level='paid', phase=1),\n",
       " Row(userId='15', firstname='Lily', ts=1541619873796, page='NextSong', level='paid', phase=1),\n",
       " Row(userId='15', firstname='Lily', ts=1541620111796, page='NextSong', level='paid', phase=1),\n",
       " Row(userId='15', firstname='Lily', ts=1541620377796, page='NextSong', level='paid', phase=1),\n",
       " Row(userId='15', firstname='Lily', ts=1541620643796, page='NextSong', level='paid', phase=1),\n",
       " Row(userId='15', firstname='Lily', ts=1541620882796, page='NextSong', level='paid', phase=1),\n",
       " Row(userId='15', firstname='Lily', ts=1541621083796, page='NextSong', level='paid', phase=1),\n",
       " Row(userId='15', firstname='Lily', ts=1541621318796, page='NextSong', level='paid', phase=1),\n",
       " Row(userId='15', firstname='Lily', ts=1541621584796, page='NextSong', level='paid', phase=1),\n",
       " Row(userId='15', firstname='Lily', ts=1541621664796, page='Settings', level='paid', phase=1),\n",
       " Row(userId='15', firstname='Lily', ts=1541621995796, page='NextSong', level='paid', phase=1),\n",
       " Row(userId='15', firstname='Lily', ts=1541622169796, page='NextSong', level='paid', phase=1),\n",
       " Row(userId='15', firstname='Lily', ts=1541622416796, page='NextSong', level='paid', phase=1),\n",
       " Row(userId='15', firstname='Lily', ts=1541622630796, page='NextSong', level='paid', phase=1),\n",
       " Row(userId='15', firstname='Lily', ts=1541622828796, page='NextSong', level='paid', phase=1),\n",
       " Row(userId='15', firstname='Lily', ts=1541623123796, page='NextSong', level='paid', phase=1),\n",
       " Row(userId='15', firstname='Lily', ts=1541623440796, page='NextSong', level='paid', phase=1),\n",
       " Row(userId='15', firstname='Lily', ts=1541623631796, page='NextSong', level='paid', phase=1),\n",
       " Row(userId='15', firstname='Lily', ts=1541624288796, page='NextSong', level='paid', phase=1),\n",
       " Row(userId='15', firstname='Lily', ts=1541624506796, page='NextSong', level='paid', phase=1),\n",
       " Row(userId='15', firstname='Lily', ts=1541624754796, page='NextSong', level='paid', phase=1),\n",
       " Row(userId='15', firstname='Lily', ts=1541773782796, page='NextSong', level='paid', phase=1),\n",
       " Row(userId='15', firstname='Lily', ts=1541773818796, page='Home', level='paid', phase=1),\n",
       " Row(userId='15', firstname='Lily', ts=1541773976796, page='NextSong', level='paid', phase=1),\n",
       " Row(userId='15', firstname='Lily', ts=1541774191796, page='NextSong', level='paid', phase=1),\n",
       " Row(userId='15', firstname='Lily', ts=1541774437796, page='NextSong', level='paid', phase=1),\n",
       " Row(userId='15', firstname='Lily', ts=1541774723796, page='NextSong', level='paid', phase=1),\n",
       " Row(userId='15', firstname='Lily', ts=1541775053796, page='NextSong', level='paid', phase=1),\n",
       " Row(userId='15', firstname='Lily', ts=1541775544796, page='NextSong', level='paid', phase=1),\n",
       " Row(userId='15', firstname='Lily', ts=1541775555796, page='Settings', level='paid', phase=1),\n",
       " Row(userId='15', firstname='Lily', ts=1541775556796, page='Save Settings', level='paid', phase=1),\n",
       " Row(userId='15', firstname='Lily', ts=1541775811796, page='Home', level='paid', phase=1),\n",
       " Row(userId='15', firstname='Lily', ts=1541775843796, page='NextSong', level='paid', phase=1),\n",
       " Row(userId='15', firstname='Lily', ts=1541776079796, page='NextSong', level='paid', phase=1),\n",
       " Row(userId='15', firstname='Lily', ts=1542134377796, page='NextSong', level='paid', phase=1),\n",
       " Row(userId='15', firstname='Lily', ts=1542134623796, page='NextSong', level='paid', phase=1),\n",
       " Row(userId='15', firstname='Lily', ts=1542193004796, page='Home', level='paid', phase=1),\n",
       " Row(userId='15', firstname='Lily', ts=1542193015796, page='NextSong', level='paid', phase=1),\n",
       " Row(userId='15', firstname='Lily', ts=1542193206796, page='NextSong', level='paid', phase=1),\n",
       " Row(userId='15', firstname='Lily', ts=1542193396796, page='NextSong', level='paid', phase=1),\n",
       " Row(userId='15', firstname='Lily', ts=1542193627796, page='NextSong', level='paid', phase=1),\n",
       " Row(userId='15', firstname='Lily', ts=1542193877796, page='NextSong', level='paid', phase=1),\n",
       " Row(userId='15', firstname='Lily', ts=1542194083796, page='NextSong', level='paid', phase=1),\n",
       " Row(userId='15', firstname='Lily', ts=1542194141796, page='Help', level='paid', phase=1),\n",
       " Row(userId='15', firstname='Lily', ts=1542194289796, page='NextSong', level='paid', phase=1),\n",
       " Row(userId='15', firstname='Lily', ts=1542194490796, page='NextSong', level='paid', phase=1),\n",
       " Row(userId='15', firstname='Lily', ts=1542194600796, page='NextSong', level='paid', phase=1),\n",
       " Row(userId='15', firstname='Lily', ts=1542194815796, page='NextSong', level='paid', phase=1),\n",
       " Row(userId='15', firstname='Lily', ts=1542195054796, page='NextSong', level='paid', phase=1),\n",
       " Row(userId='15', firstname='Lily', ts=1542195202796, page='NextSong', level='paid', phase=1),\n",
       " Row(userId='15', firstname='Lily', ts=1542195401796, page='NextSong', level='paid', phase=1),\n",
       " Row(userId='15', firstname='Lily', ts=1542195630796, page='NextSong', level='paid', phase=1),\n",
       " Row(userId='15', firstname='Lily', ts=1542195817796, page='NextSong', level='paid', phase=1),\n",
       " Row(userId='15', firstname='Lily', ts=1542196067796, page='NextSong', level='paid', phase=1),\n",
       " Row(userId='15', firstname='Lily', ts=1542196394796, page='NextSong', level='paid', phase=1),\n",
       " Row(userId='15', firstname='Lily', ts=1542196609796, page='NextSong', level='paid', phase=1),\n",
       " Row(userId='15', firstname='Lily', ts=1542196651796, page='Downgrade', level='paid', phase=1),\n",
       " Row(userId='15', firstname='Lily', ts=1542262456796, page='NextSong', level='paid', phase=1),\n",
       " Row(userId='15', firstname='Lily', ts=1542262728796, page='NextSong', level='paid', phase=1),\n",
       " Row(userId='15', firstname='Lily', ts=1542262893796, page='NextSong', level='paid', phase=1),\n",
       " Row(userId='15', firstname='Lily', ts=1542263158796, page='NextSong', level='paid', phase=1),\n",
       " Row(userId='15', firstname='Lily', ts=1542263378796, page='NextSong', level='paid', phase=1),\n",
       " Row(userId='15', firstname='Lily', ts=1542602170796, page='NextSong', level='paid', phase=1),\n",
       " Row(userId='15', firstname='Lily', ts=1542602409796, page='NextSong', level='paid', phase=1),\n",
       " Row(userId='15', firstname='Lily', ts=1542602625796, page='NextSong', level='paid', phase=1),\n",
       " Row(userId='15', firstname='Lily', ts=1542602953796, page='NextSong', level='paid', phase=1),\n",
       " Row(userId='15', firstname='Lily', ts=1542603206796, page='NextSong', level='paid', phase=1),\n",
       " Row(userId='15', firstname='Lily', ts=1542603407796, page='NextSong', level='paid', phase=1),\n",
       " Row(userId='15', firstname='Lily', ts=1542603753796, page='NextSong', level='paid', phase=1),\n",
       " Row(userId='15', firstname='Lily', ts=1542603895796, page='NextSong', level='paid', phase=1),\n",
       " Row(userId='15', firstname='Lily', ts=1542604056796, page='NextSong', level='paid', phase=1),\n",
       " Row(userId='15', firstname='Lily', ts=1542604283796, page='NextSong', level='paid', phase=1),\n",
       " Row(userId='15', firstname='Lily', ts=1542604284796, page='Logout', level='paid', phase=1),\n",
       " Row(userId='15', firstname='Lily', ts=1542695016796, page='Home', level='paid', phase=1),\n",
       " Row(userId='15', firstname='Lily', ts=1542695032796, page='NextSong', level='paid', phase=1),\n",
       " Row(userId='15', firstname='Lily', ts=1542695394796, page='NextSong', level='paid', phase=1),\n",
       " Row(userId='15', firstname='Lily', ts=1542695612796, page='NextSong', level='paid', phase=1),\n",
       " Row(userId='15', firstname='Lily', ts=1542695887796, page='NextSong', level='paid', phase=1),\n",
       " Row(userId='15', firstname='Lily', ts=1542695909796, page='NextSong', level='paid', phase=1),\n",
       " Row(userId='15', firstname='Lily', ts=1542696138796, page='NextSong', level='paid', phase=1),\n",
       " Row(userId='15', firstname='Lily', ts=1542696380796, page='NextSong', level='paid', phase=1),\n",
       " Row(userId='15', firstname='Lily', ts=1542696434796, page='Downgrade', level='paid', phase=1),\n",
       " Row(userId='15', firstname='Lily', ts=1542696552796, page='NextSong', level='paid', phase=1),\n",
       " Row(userId='15', firstname='Lily', ts=1542696808796, page='NextSong', level='paid', phase=1),\n",
       " Row(userId='15', firstname='Lily', ts=1542697041796, page='NextSong', level='paid', phase=1),\n",
       " Row(userId='15', firstname='Lily', ts=1542697273796, page='NextSong', level='paid', phase=1),\n",
       " Row(userId='15', firstname='Lily', ts=1542697553796, page='NextSong', level='paid', phase=1),\n",
       " Row(userId='15', firstname='Lily', ts=1542697874796, page='NextSong', level='paid', phase=1),\n",
       " Row(userId='15', firstname='Lily', ts=1542698020796, page='NextSong', level='paid', phase=1),\n",
       " Row(userId='15', firstname='Lily', ts=1542698285796, page='NextSong', level='paid', phase=1),\n",
       " Row(userId='15', firstname='Lily', ts=1542698514796, page='NextSong', level='paid', phase=1),\n",
       " Row(userId='15', firstname='Lily', ts=1542698706796, page='NextSong', level='paid', phase=1),\n",
       " Row(userId='15', firstname='Lily', ts=1542698907796, page='NextSong', level='paid', phase=1),\n",
       " Row(userId='15', firstname='Lily', ts=1542699157796, page='NextSong', level='paid', phase=1),\n",
       " Row(userId='15', firstname='Lily', ts=1542699468796, page='NextSong', level='paid', phase=1),\n",
       " Row(userId='15', firstname='Lily', ts=1542699724796, page='NextSong', level='paid', phase=1),\n",
       " Row(userId='15', firstname='Lily', ts=1542699938796, page='NextSong', level='paid', phase=1),\n",
       " Row(userId='15', firstname='Lily', ts=1542700174796, page='NextSong', level='paid', phase=1),\n",
       " Row(userId='15', firstname='Lily', ts=1542700442796, page='NextSong', level='paid', phase=1),\n",
       " Row(userId='15', firstname='Lily', ts=1542700659796, page='NextSong', level='paid', phase=1),\n",
       " Row(userId='15', firstname='Lily', ts=1542700944796, page='NextSong', level='paid', phase=1),\n",
       " Row(userId='15', firstname='Lily', ts=1542701130796, page='NextSong', level='paid', phase=1),\n",
       " Row(userId='15', firstname='Lily', ts=1542701267796, page='NextSong', level='paid', phase=1),\n",
       " Row(userId='15', firstname='Lily', ts=1542701428796, page='NextSong', level='paid', phase=1),\n",
       " Row(userId='15', firstname='Lily', ts=1542701693796, page='NextSong', level='paid', phase=1),\n",
       " Row(userId='15', firstname='Lily', ts=1542702051796, page='NextSong', level='paid', phase=1),\n",
       " Row(userId='15', firstname='Lily', ts=1542702289796, page='NextSong', level='paid', phase=1),\n",
       " Row(userId='15', firstname='Lily', ts=1542702518796, page='NextSong', level='paid', phase=1),\n",
       " Row(userId='15', firstname='Lily', ts=1542702714796, page='NextSong', level='paid', phase=1),\n",
       " Row(userId='15', firstname='Lily', ts=1542702972796, page='NextSong', level='paid', phase=1),\n",
       " Row(userId='15', firstname='Lily', ts=1542703358796, page='NextSong', level='paid', phase=1),\n",
       " Row(userId='15', firstname='Lily', ts=1542703837796, page='NextSong', level='paid', phase=1),\n",
       " Row(userId='15', firstname='Lily', ts=1542704016796, page='NextSong', level='paid', phase=1),\n",
       " Row(userId='15', firstname='Lily', ts=1542704240796, page='NextSong', level='paid', phase=1),\n",
       " Row(userId='15', firstname='Lily', ts=1542704459796, page='NextSong', level='paid', phase=1),\n",
       " Row(userId='15', firstname='Lily', ts=1542704885796, page='NextSong', level='paid', phase=1),\n",
       " Row(userId='15', firstname='Lily', ts=1542705110796, page='NextSong', level='paid', phase=1),\n",
       " Row(userId='15', firstname='Lily', ts=1542705370796, page='NextSong', level='paid', phase=1),\n",
       " Row(userId='15', firstname='Lily', ts=1542705618796, page='NextSong', level='paid', phase=1),\n",
       " Row(userId='15', firstname='Lily', ts=1542705717796, page='NextSong', level='paid', phase=1),\n",
       " Row(userId='15', firstname='Lily', ts=1542705953796, page='NextSong', level='paid', phase=1),\n",
       " Row(userId='15', firstname='Lily', ts=1542706197796, page='NextSong', level='paid', phase=1),\n",
       " Row(userId='15', firstname='Lily', ts=1542706405796, page='NextSong', level='paid', phase=1),\n",
       " Row(userId='15', firstname='Lily', ts=1542706623796, page='NextSong', level='paid', phase=1),\n",
       " Row(userId='15', firstname='Lily', ts=1542706832796, page='NextSong', level='paid', phase=1),\n",
       " Row(userId='15', firstname='Lily', ts=1542707081796, page='NextSong', level='paid', phase=1),\n",
       " Row(userId='15', firstname='Lily', ts=1542707320796, page='NextSong', level='paid', phase=1),\n",
       " Row(userId='15', firstname='Lily', ts=1542707570796, page='NextSong', level='paid', phase=1),\n",
       " Row(userId='15', firstname='Lily', ts=1542707978796, page='NextSong', level='paid', phase=1),\n",
       " Row(userId='15', firstname='Lily', ts=1542708257796, page='NextSong', level='paid', phase=1),\n",
       " Row(userId='15', firstname='Lily', ts=1542708529796, page='NextSong', level='paid', phase=1),\n",
       " Row(userId='15', firstname='Lily', ts=1542708786796, page='NextSong', level='paid', phase=1),\n",
       " Row(userId='15', firstname='Lily', ts=1542708980796, page='NextSong', level='paid', phase=1),\n",
       " Row(userId='15', firstname='Lily', ts=1542709236796, page='NextSong', level='paid', phase=1),\n",
       " Row(userId='15', firstname='Lily', ts=1542792981796, page='NextSong', level='paid', phase=1),\n",
       " Row(userId='15', firstname='Lily', ts=1542793220796, page='NextSong', level='paid', phase=1),\n",
       " Row(userId='15', firstname='Lily', ts=1542793582796, page='NextSong', level='paid', phase=1),\n",
       " Row(userId='15', firstname='Lily', ts=1542793987796, page='NextSong', level='paid', phase=1),\n",
       " Row(userId='15', firstname='Lily', ts=1542794247796, page='NextSong', level='paid', phase=1),\n",
       " Row(userId='15', firstname='Lily', ts=1542794416796, page='NextSong', level='paid', phase=1),\n",
       " Row(userId='15', firstname='Lily', ts=1542794680796, page='NextSong', level='paid', phase=1),\n",
       " Row(userId='15', firstname='Lily', ts=1542794875796, page='NextSong', level='paid', phase=1),\n",
       " Row(userId='15', firstname='Lily', ts=1542795108796, page='NextSong', level='paid', phase=1),\n",
       " Row(userId='15', firstname='Lily', ts=1542795335796, page='NextSong', level='paid', phase=1),\n",
       " Row(userId='15', firstname='Lily', ts=1542795585796, page='NextSong', level='paid', phase=1),\n",
       " Row(userId='15', firstname='Lily', ts=1542795875796, page='NextSong', level='paid', phase=1),\n",
       " Row(userId='15', firstname='Lily', ts=1542796140796, page='NextSong', level='paid', phase=1),\n",
       " Row(userId='15', firstname='Lily', ts=1542796360796, page='NextSong', level='paid', phase=1),\n",
       " Row(userId='15', firstname='Lily', ts=1542796529796, page='NextSong', level='paid', phase=1),\n",
       " Row(userId='15', firstname='Lily', ts=1542796973796, page='NextSong', level='paid', phase=1),\n",
       " Row(userId='15', firstname='Lily', ts=1542797295796, page='NextSong', level='paid', phase=1),\n",
       " Row(userId='15', firstname='Lily', ts=1542797532796, page='NextSong', level='paid', phase=1),\n",
       " Row(userId='15', firstname='Lily', ts=1542797806796, page='NextSong', level='paid', phase=1),\n",
       " Row(userId='15', firstname='Lily', ts=1542798065796, page='NextSong', level='paid', phase=1),\n",
       " Row(userId='15', firstname='Lily', ts=1542798240796, page='NextSong', level='paid', phase=1),\n",
       " Row(userId='15', firstname='Lily', ts=1542798458796, page='NextSong', level='paid', phase=1),\n",
       " Row(userId='15', firstname='Lily', ts=1542798516796, page='Downgrade', level='paid', phase=1),\n",
       " Row(userId='15', firstname='Lily', ts=1542798517796, page='Submit Downgrade', level='paid', phase=1),\n",
       " Row(userId='15', firstname='Lily', ts=1542798537796, page='Home', level='free', phase=0),\n",
       " Row(userId='15', firstname='Lily', ts=1542798682796, page='NextSong', level='free', phase=0),\n",
       " Row(userId='15', firstname='Lily', ts=1542798744796, page='Upgrade', level='free', phase=0),\n",
       " Row(userId='15', firstname='Lily', ts=1542798745796, page='Submit Upgrade', level='free', phase=0),\n",
       " Row(userId='15', firstname='Lily', ts=1542798812796, page='Home', level='paid', phase=0),\n",
       " Row(userId='15', firstname='Lily', ts=1542798860796, page='Settings', level='paid', phase=0),\n",
       " Row(userId='15', firstname='Lily', ts=1542798861796, page='Save Settings', level='paid', phase=0),\n",
       " Row(userId='15', firstname='Lily', ts=1542798952796, page='Home', level='paid', phase=0),\n",
       " Row(userId='15', firstname='Lily', ts=1542799016796, page='NextSong', level='paid', phase=0),\n",
       " Row(userId='15', firstname='Lily', ts=1542799276796, page='NextSong', level='paid', phase=0),\n",
       " Row(userId='15', firstname='Lily', ts=1542799531796, page='NextSong', level='paid', phase=0),\n",
       " Row(userId='15', firstname='Lily', ts=1542799693796, page='NextSong', level='paid', phase=0),\n",
       " Row(userId='15', firstname='Lily', ts=1542799794796, page='NextSong', level='paid', phase=0),\n",
       " Row(userId='15', firstname='Lily', ts=1542800082796, page='NextSong', level='paid', phase=0),\n",
       " Row(userId='15', firstname='Lily', ts=1542800224796, page='NextSong', level='paid', phase=0),\n",
       " Row(userId='15', firstname='Lily', ts=1542800446796, page='NextSong', level='paid', phase=0),\n",
       " Row(userId='15', firstname='Lily', ts=1542800578796, page='NextSong', level='paid', phase=0),\n",
       " Row(userId='15', firstname='Lily', ts=1542800882796, page='NextSong', level='paid', phase=0),\n",
       " Row(userId='15', firstname='Lily', ts=1542801099796, page='NextSong', level='paid', phase=0),\n",
       " Row(userId='15', firstname='Lily', ts=1542801260796, page='NextSong', level='paid', phase=0),\n",
       " Row(userId='15', firstname='Lily', ts=1542801457796, page='NextSong', level='paid', phase=0),\n",
       " Row(userId='15', firstname='Lily', ts=1542801774796, page='NextSong', level='paid', phase=0),\n",
       " Row(userId='15', firstname='Lily', ts=1542801940796, page='NextSong', level='paid', phase=0),\n",
       " Row(userId='15', firstname='Lily', ts=1542802249796, page='NextSong', level='paid', phase=0),\n",
       " Row(userId='15', firstname='Lily', ts=1542802488796, page='NextSong', level='paid', phase=0),\n",
       " Row(userId='15', firstname='Lily', ts=1542802697796, page='NextSong', level='paid', phase=0),\n",
       " Row(userId='15', firstname='Lily', ts=1542803140796, page='NextSong', level='paid', phase=0),\n",
       " Row(userId='15', firstname='Lily', ts=1542803389796, page='NextSong', level='paid', phase=0),\n",
       " Row(userId='15', firstname='Lily', ts=1542803625796, page='NextSong', level='paid', phase=0),\n",
       " Row(userId='15', firstname='Lily', ts=1542803850796, page='NextSong', level='paid', phase=0),\n",
       " Row(userId='15', firstname='Lily', ts=1542803869796, page='Help', level='paid', phase=0),\n",
       " Row(userId='15', firstname='Lily', ts=1542804127796, page='NextSong', level='paid', phase=0),\n",
       " Row(userId='15', firstname='Lily', ts=1542804369796, page='NextSong', level='paid', phase=0),\n",
       " Row(userId='15', firstname='Lily', ts=1542804740796, page='NextSong', level='paid', phase=0),\n",
       " Row(userId='15', firstname='Lily', ts=1542805056796, page='NextSong', level='paid', phase=0),\n",
       " Row(userId='15', firstname='Lily', ts=1542806384796, page='NextSong', level='paid', phase=0),\n",
       " Row(userId='15', firstname='Lily', ts=1542806595796, page='NextSong', level='paid', phase=0),\n",
       " Row(userId='15', firstname='Lily', ts=1542806931796, page='NextSong', level='paid', phase=0),\n",
       " Row(userId='15', firstname='Lily', ts=1542807206796, page='NextSong', level='paid', phase=0),\n",
       " Row(userId='15', firstname='Lily', ts=1542807426796, page='NextSong', level='paid', phase=0),\n",
       " Row(userId='15', firstname='Lily', ts=1542807656796, page='NextSong', level='paid', phase=0),\n",
       " Row(userId='15', firstname='Lily', ts=1542807973796, page='NextSong', level='paid', phase=0),\n",
       " Row(userId='15', firstname='Lily', ts=1542808215796, page='NextSong', level='paid', phase=0),\n",
       " Row(userId='15', firstname='Lily', ts=1542808569796, page='NextSong', level='paid', phase=0),\n",
       " Row(userId='15', firstname='Lily', ts=1542808606796, page='Home', level='paid', phase=0),\n",
       " Row(userId='15', firstname='Lily', ts=1542808786796, page='NextSong', level='paid', phase=0),\n",
       " Row(userId='15', firstname='Lily', ts=1542809047796, page='NextSong', level='paid', phase=0),\n",
       " Row(userId='15', firstname='Lily', ts=1542809223796, page='NextSong', level='paid', phase=0),\n",
       " Row(userId='15', firstname='Lily', ts=1542809381796, page='NextSong', level='paid', phase=0),\n",
       " Row(userId='15', firstname='Lily', ts=1542809583796, page='NextSong', level='paid', phase=0),\n",
       " Row(userId='15', firstname='Lily', ts=1542809782796, page='NextSong', level='paid', phase=0),\n",
       " Row(userId='15', firstname='Lily', ts=1542809972796, page='NextSong', level='paid', phase=0),\n",
       " Row(userId='15', firstname='Lily', ts=1542810232796, page='NextSong', level='paid', phase=0),\n",
       " Row(userId='15', firstname='Lily', ts=1542836383796, page='Home', level='paid', phase=0),\n",
       " Row(userId='15', firstname='Lily', ts=1542836433796, page='NextSong', level='paid', phase=0),\n",
       " Row(userId='15', firstname='Lily', ts=1542836729796, page='NextSong', level='paid', phase=0),\n",
       " Row(userId='15', firstname='Lily', ts=1542836964796, page='NextSong', level='paid', phase=0),\n",
       " Row(userId='15', firstname='Lily', ts=1542837155796, page='NextSong', level='paid', phase=0),\n",
       " Row(userId='15', firstname='Lily', ts=1542837407796, page='NextSong', level='paid', phase=0),\n",
       " Row(userId='15', firstname='Lily', ts=1542837676796, page='NextSong', level='paid', phase=0),\n",
       " Row(userId='15', firstname='Lily', ts=1542837934796, page='NextSong', level='paid', phase=0),\n",
       " Row(userId='15', firstname='Lily', ts=1542838144796, page='NextSong', level='paid', phase=0),\n",
       " Row(userId='15', firstname='Lily', ts=1542838276796, page='NextSong', level='paid', phase=0),\n",
       " Row(userId='15', firstname='Lily', ts=1542838466796, page='NextSong', level='paid', phase=0),\n",
       " Row(userId='15', firstname='Lily', ts=1542838743796, page='NextSong', level='paid', phase=0),\n",
       " Row(userId='15', firstname='Lily', ts=1542838991796, page='NextSong', level='paid', phase=0),\n",
       " Row(userId='15', firstname='Lily', ts=1542839217796, page='NextSong', level='paid', phase=0),\n",
       " Row(userId='15', firstname='Lily', ts=1542839453796, page='NextSong', level='paid', phase=0),\n",
       " Row(userId='15', firstname='Lily', ts=1542839676796, page='NextSong', level='paid', phase=0),\n",
       " Row(userId='15', firstname='Lily', ts=1542839888796, page='NextSong', level='paid', phase=0),\n",
       " Row(userId='15', firstname='Lily', ts=1542840121796, page='NextSong', level='paid', phase=0),\n",
       " Row(userId='15', firstname='Lily', ts=1542840330796, page='NextSong', level='paid', phase=0),\n",
       " Row(userId='15', firstname='Lily', ts=1542840436796, page='NextSong', level='paid', phase=0),\n",
       " Row(userId='15', firstname='Lily', ts=1542840682796, page='NextSong', level='paid', phase=0),\n",
       " Row(userId='15', firstname='Lily', ts=1542841019796, page='NextSong', level='paid', phase=0),\n",
       " Row(userId='15', firstname='Lily', ts=1542841293796, page='NextSong', level='paid', phase=0),\n",
       " Row(userId='15', firstname='Lily', ts=1542841463796, page='NextSong', level='paid', phase=0),\n",
       " Row(userId='15', firstname='Lily', ts=1542841596796, page='NextSong', level='paid', phase=0),\n",
       " Row(userId='15', firstname='Lily', ts=1542841824796, page='NextSong', level='paid', phase=0),\n",
       " Row(userId='15', firstname='Lily', ts=1542841970796, page='NextSong', level='paid', phase=0),\n",
       " Row(userId='15', firstname='Lily', ts=1542842120796, page='NextSong', level='paid', phase=0),\n",
       " Row(userId='15', firstname='Lily', ts=1542842331796, page='NextSong', level='paid', phase=0),\n",
       " Row(userId='15', firstname='Lily', ts=1542842644796, page='NextSong', level='paid', phase=0),\n",
       " Row(userId='15', firstname='Lily', ts=1542842900796, page='NextSong', level='paid', phase=0),\n",
       " Row(userId='15', firstname='Lily', ts=1542843161796, page='NextSong', level='paid', phase=0),\n",
       " Row(userId='15', firstname='Lily', ts=1542843391796, page='NextSong', level='paid', phase=0),\n",
       " Row(userId='15', firstname='Lily', ts=1542843719796, page='NextSong', level='paid', phase=0),\n",
       " Row(userId='15', firstname='Lily', ts=1542844025796, page='NextSong', level='paid', phase=0),\n",
       " Row(userId='15', firstname='Lily', ts=1542844202796, page='NextSong', level='paid', phase=0),\n",
       " Row(userId='15', firstname='Lily', ts=1542844428796, page='NextSong', level='paid', phase=0),\n",
       " Row(userId='15', firstname='Lily', ts=1542844665796, page='NextSong', level='paid', phase=0),\n",
       " Row(userId='15', firstname='Lily', ts=1542845032796, page='NextSong', level='paid', phase=0),\n",
       " Row(userId='15', firstname='Lily', ts=1542845350796, page='NextSong', level='paid', phase=0),\n",
       " Row(userId='15', firstname='Lily', ts=1542845526796, page='NextSong', level='paid', phase=0),\n",
       " Row(userId='15', firstname='Lily', ts=1542845741796, page='NextSong', level='paid', phase=0),\n",
       " Row(userId='15', firstname='Lily', ts=1542846220796, page='NextSong', level='paid', phase=0),\n",
       " Row(userId='15', firstname='Lily', ts=1542846506796, page='NextSong', level='paid', phase=0),\n",
       " Row(userId='15', firstname='Lily', ts=1542846745796, page='NextSong', level='paid', phase=0),\n",
       " Row(userId='15', firstname='Lily', ts=1542847130796, page='NextSong', level='paid', phase=0),\n",
       " Row(userId='15', firstname='Lily', ts=1542847309796, page='NextSong', level='paid', phase=0),\n",
       " Row(userId='15', firstname='Lily', ts=1542847559796, page='NextSong', level='paid', phase=0),\n",
       " Row(userId='15', firstname='Lily', ts=1542847758796, page='NextSong', level='paid', phase=0),\n",
       " Row(userId='15', firstname='Lily', ts=1542848253796, page='NextSong', level='paid', phase=0),\n",
       " Row(userId='15', firstname='Lily', ts=1542848506796, page='NextSong', level='paid', phase=0),\n",
       " Row(userId='15', firstname='Lily', ts=1542848735796, page='NextSong', level='paid', phase=0),\n",
       " Row(userId='15', firstname='Lily', ts=1542849131796, page='NextSong', level='paid', phase=0),\n",
       " Row(userId='15', firstname='Lily', ts=1542849457796, page='NextSong', level='paid', phase=0),\n",
       " Row(userId='15', firstname='Lily', ts=1542849697796, page='NextSong', level='paid', phase=0),\n",
       " Row(userId='15', firstname='Lily', ts=1542849899796, page='NextSong', level='paid', phase=0),\n",
       " Row(userId='15', firstname='Lily', ts=1542850205796, page='NextSong', level='paid', phase=0),\n",
       " Row(userId='15', firstname='Lily', ts=1542850491796, page='NextSong', level='paid', phase=0),\n",
       " Row(userId='15', firstname='Lily', ts=1542850687796, page='NextSong', level='paid', phase=0),\n",
       " Row(userId='15', firstname='Lily', ts=1542850818796, page='NextSong', level='paid', phase=0),\n",
       " Row(userId='15', firstname='Lily', ts=1542851069796, page='NextSong', level='paid', phase=0),\n",
       " Row(userId='15', firstname='Lily', ts=1542851303796, page='NextSong', level='paid', phase=0),\n",
       " Row(userId='15', firstname='Lily', ts=1542851504796, page='NextSong', level='paid', phase=0),\n",
       " Row(userId='15', firstname='Lily', ts=1542851755796, page='NextSong', level='paid', phase=0),\n",
       " Row(userId='15', firstname='Lily', ts=1542851944796, page='NextSong', level='paid', phase=0),\n",
       " Row(userId='15', firstname='Lily', ts=1542852183796, page='NextSong', level='paid', phase=0),\n",
       " Row(userId='15', firstname='Lily', ts=1542852356796, page='NextSong', level='paid', phase=0),\n",
       " Row(userId='15', firstname='Lily', ts=1542852612796, page='NextSong', level='paid', phase=0),\n",
       " Row(userId='15', firstname='Lily', ts=1542852842796, page='NextSong', level='paid', phase=0),\n",
       " Row(userId='15', firstname='Lily', ts=1542853037796, page='NextSong', level='paid', phase=0),\n",
       " Row(userId='15', firstname='Lily', ts=1542853326796, page='NextSong', level='paid', phase=0),\n",
       " Row(userId='15', firstname='Lily', ts=1542853327796, page='Logout', level='paid', phase=0),\n",
       " Row(userId='15', firstname='Lily', ts=1543228683796, page='Home', level='paid', phase=0),\n",
       " Row(userId='15', firstname='Lily', ts=1543228693796, page='NextSong', level='paid', phase=0),\n",
       " Row(userId='15', firstname='Lily', ts=1543228923796, page='NextSong', level='paid', phase=0),\n",
       " Row(userId='15', firstname='Lily', ts=1543229148796, page='NextSong', level='paid', phase=0),\n",
       " Row(userId='15', firstname='Lily', ts=1543229554796, page='NextSong', level='paid', phase=0),\n",
       " Row(userId='15', firstname='Lily', ts=1543229766796, page='NextSong', level='paid', phase=0),\n",
       " Row(userId='15', firstname='Lily', ts=1543229941796, page='NextSong', level='paid', phase=0),\n",
       " Row(userId='15', firstname='Lily', ts=1543230289796, page='NextSong', level='paid', phase=0),\n",
       " Row(userId='15', firstname='Lily', ts=1543230542796, page='NextSong', level='paid', phase=0),\n",
       " Row(userId='15', firstname='Lily', ts=1543230758796, page='NextSong', level='paid', phase=0),\n",
       " Row(userId='15', firstname='Lily', ts=1543231001796, page='NextSong', level='paid', phase=0),\n",
       " Row(userId='15', firstname='Lily', ts=1543231260796, page='NextSong', level='paid', phase=0),\n",
       " Row(userId='15', firstname='Lily', ts=1543231478796, page='NextSong', level='paid', phase=0),\n",
       " Row(userId='15', firstname='Lily', ts=1543231631796, page='NextSong', level='paid', phase=0),\n",
       " Row(userId='15', firstname='Lily', ts=1543231814796, page='NextSong', level='paid', phase=0),\n",
       " Row(userId='15', firstname='Lily', ts=1543232151796, page='NextSong', level='paid', phase=0),\n",
       " Row(userId='15', firstname='Lily', ts=1543232406796, page='NextSong', level='paid', phase=0),\n",
       " Row(userId='15', firstname='Lily', ts=1543232597796, page='NextSong', level='paid', phase=0),\n",
       " Row(userId='15', firstname='Lily', ts=1543233210796, page='NextSong', level='paid', phase=0),\n",
       " Row(userId='15', firstname='Lily', ts=1543233528796, page='NextSong', level='paid', phase=0),\n",
       " Row(userId='15', firstname='Lily', ts=1543233847796, page='NextSong', level='paid', phase=0),\n",
       " Row(userId='15', firstname='Lily', ts=1543234089796, page='NextSong', level='paid', phase=0),\n",
       " Row(userId='15', firstname='Lily', ts=1543234288796, page='NextSong', level='paid', phase=0),\n",
       " Row(userId='15', firstname='Lily', ts=1543234289796, page='Logout', level='paid', phase=0)]"
      ]
     },
     "execution_count": 74,
     "metadata": {},
     "output_type": "execute_result"
    }
   ],
   "source": [
    "user_log_valid.select([\"userId\", \"firstname\", \"ts\", \"page\", \"level\", \"phase\"]).where(user_log.userId == \"15\").sort(\"ts\").collect()"
   ]
  },
  {
   "cell_type": "code",
   "execution_count": 85,
   "metadata": {},
   "outputs": [],
   "source": [
    "user_log_gender = user_log.select([\"userId\", \"firstname\", \"page\", \"song\"]).where(user_log.gender == \"F\").dropDuplicates()"
   ]
  },
  {
   "cell_type": "code",
   "execution_count": 86,
   "metadata": {},
   "outputs": [
    {
     "data": {
      "text/plain": [
       "4853"
      ]
     },
     "execution_count": 86,
     "metadata": {},
     "output_type": "execute_result"
    }
   ],
   "source": [
    "user_log_gender.count()"
   ]
  },
  {
   "cell_type": "code",
   "execution_count": 87,
   "metadata": {},
   "outputs": [],
   "source": [
    "from pyspark.sql import SparkSession\n",
    "from pyspark.sql.functions import isnan, count, when, col, desc, udf, col, sort_array, asc, avg\n",
    "from pyspark.sql.functions import sum as Fsum\n",
    "from pyspark.sql.window import Window\n",
    "from pyspark.sql.types import IntegerType"
   ]
  },
  {
   "cell_type": "code",
   "execution_count": 88,
   "metadata": {},
   "outputs": [],
   "source": [
    "# 1) import any other libraries you might need\n",
    "# 2) instantiate a Spark session \n",
    "# 3) read in the data set located at the path \"data/sparkify_log_small.json\"\n",
    "# 4) write code to answer the quiz questions \n",
    "\n",
    "spark = SparkSession \\\n",
    "    .builder \\\n",
    "    .appName(\"Data Frames practice\") \\\n",
    "    .getOrCreate()\n",
    "\n",
    "df = spark.read.json(\"C:\\\\Users\\\\arunk01\\\\Desktop\\\\Udacity\\\\data\\*.json\")"
   ]
  },
  {
   "cell_type": "markdown",
   "metadata": {},
   "source": [
    "# Question 1\n",
    "Which page did user id \"\" (empty string) NOT visit?"
   ]
  },
  {
   "cell_type": "code",
   "execution_count": 89,
   "metadata": {},
   "outputs": [
    {
     "name": "stdout",
     "output_type": "stream",
     "text": [
      "root\n",
      " |-- artist: string (nullable = true)\n",
      " |-- auth: string (nullable = true)\n",
      " |-- firstName: string (nullable = true)\n",
      " |-- gender: string (nullable = true)\n",
      " |-- itemInSession: long (nullable = true)\n",
      " |-- lastName: string (nullable = true)\n",
      " |-- length: double (nullable = true)\n",
      " |-- level: string (nullable = true)\n",
      " |-- location: string (nullable = true)\n",
      " |-- method: string (nullable = true)\n",
      " |-- page: string (nullable = true)\n",
      " |-- registration: double (nullable = true)\n",
      " |-- sessionId: long (nullable = true)\n",
      " |-- song: string (nullable = true)\n",
      " |-- status: long (nullable = true)\n",
      " |-- ts: long (nullable = true)\n",
      " |-- userAgent: string (nullable = true)\n",
      " |-- userId: string (nullable = true)\n",
      "\n"
     ]
    }
   ],
   "source": [
    "df.printSchema()"
   ]
  },
  {
   "cell_type": "code",
   "execution_count": 90,
   "metadata": {},
   "outputs": [
    {
     "name": "stdout",
     "output_type": "stream",
     "text": [
      "Downgrade\n",
      "Submit Upgrade\n",
      "Submit Downgrade\n",
      "NextSong\n",
      "Settings\n",
      "Logout\n",
      "Save Settings\n",
      "Upgrade\n",
      "Error\n"
     ]
    }
   ],
   "source": [
    "# filter for users with blank user id\n",
    "blank_pages = df.filter(df.userId == '') \\\n",
    "    .select(col('page') \\\n",
    "    .alias('blank_pages')) \\\n",
    "    .dropDuplicates()\n",
    "\n",
    "# get a list of possible pages that could be visited\n",
    "all_pages = df.select('page').dropDuplicates()\n",
    "\n",
    "# find values in all_pages that are not in blank_pages\n",
    "# these are the pages that the blank user did not go to\n",
    "for row in set(all_pages.collect()) - set(blank_pages.collect()):\n",
    "    print(row.page)"
   ]
  },
  {
   "cell_type": "markdown",
   "metadata": {},
   "source": [
    "# Question 2 - Reflect\n",
    "What type of user does the empty string user id most likely refer to?\n",
    "\n",
    "Perhaps it represents users who have not signed up yet or who are signed out and are about to log in."
   ]
  },
  {
   "cell_type": "markdown",
   "metadata": {},
   "source": [
    "# Question 3\n",
    "How many female users do we have in the data set?"
   ]
  },
  {
   "cell_type": "code",
   "execution_count": 91,
   "metadata": {},
   "outputs": [
    {
     "data": {
      "text/plain": [
       "55"
      ]
     },
     "execution_count": 91,
     "metadata": {},
     "output_type": "execute_result"
    }
   ],
   "source": [
    "df.filter(df.gender == 'F') \\\n",
    "    .select('userId', 'gender') \\\n",
    "    .dropDuplicates() \\\n",
    "    .count()"
   ]
  },
  {
   "cell_type": "markdown",
   "metadata": {},
   "source": [
    "# Question 4\n",
    "How many songs were played from the most played artist?"
   ]
  },
  {
   "cell_type": "code",
   "execution_count": 92,
   "metadata": {},
   "outputs": [
    {
     "name": "stdout",
     "output_type": "stream",
     "text": [
      "+--------+-----------+\n",
      "|  Artist|Artistcount|\n",
      "+--------+-----------+\n",
      "|Coldplay|         62|\n",
      "+--------+-----------+\n",
      "only showing top 1 row\n",
      "\n"
     ]
    }
   ],
   "source": [
    "df.filter(df.page == 'NextSong') \\\n",
    "    .select('Artist') \\\n",
    "    .groupBy('Artist') \\\n",
    "    .agg({'Artist':'count'}) \\\n",
    "    .withColumnRenamed('count(Artist)', 'Artistcount') \\\n",
    "    .sort(desc('Artistcount')) \\\n",
    "    .show(1)"
   ]
  },
  {
   "cell_type": "markdown",
   "metadata": {},
   "source": [
    "# Question 5 (challenge)\n",
    "How many songs do users listen to on average between visiting our home page? Please round your answer to the closest integer."
   ]
  },
  {
   "cell_type": "code",
   "execution_count": 93,
   "metadata": {},
   "outputs": [
    {
     "name": "stdout",
     "output_type": "stream",
     "text": [
      "+------------------+\n",
      "|avg(count(period))|\n",
      "+------------------+\n",
      "| 12.04026845637584|\n",
      "+------------------+\n",
      "\n"
     ]
    }
   ],
   "source": [
    "# TODO: filter out 0 sum and max sum to get more exact answer\n",
    "\n",
    "function = udf(lambda ishome : int(ishome == 'Home'), IntegerType())\n",
    "\n",
    "user_window = Window \\\n",
    "    .partitionBy('userID') \\\n",
    "    .orderBy(desc('ts')) \\\n",
    "    .rangeBetween(Window.unboundedPreceding, 0)\n",
    "\n",
    "cusum = df.filter((df.page == 'NextSong') | (df.page == 'Home')) \\\n",
    "    .select('userID', 'page', 'ts') \\\n",
    "    .withColumn('homevisit', function(col('page'))) \\\n",
    "    .withColumn('period', Fsum('homevisit').over(user_window))\n",
    "\n",
    "cusum.filter((cusum.page == 'NextSong')) \\\n",
    "    .groupBy('userID', 'period') \\\n",
    "    .agg({'period':'count'}) \\\n",
    "    .agg({'count(period)':'avg'}).show()"
   ]
  },
  {
   "cell_type": "code",
   "execution_count": null,
   "metadata": {},
   "outputs": [],
   "source": []
  }
 ],
 "metadata": {
  "kernelspec": {
   "display_name": "Python 3",
   "language": "python",
   "name": "python3"
  },
  "language_info": {
   "codemirror_mode": {
    "name": "ipython",
    "version": 3
   },
   "file_extension": ".py",
   "mimetype": "text/x-python",
   "name": "python",
   "nbconvert_exporter": "python",
   "pygments_lexer": "ipython3",
   "version": "3.7.1"
  }
 },
 "nbformat": 4,
 "nbformat_minor": 2
}
